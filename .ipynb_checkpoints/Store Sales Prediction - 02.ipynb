{
 "cells": [
  {
   "cell_type": "markdown",
   "id": "b1ebda6b",
   "metadata": {},
   "source": [
    "# 0.0 Imports"
   ]
  },
  {
   "cell_type": "code",
   "execution_count": 2,
   "id": "a75e0c1a",
   "metadata": {
    "ExecuteTime": {
     "end_time": "2022-08-18T14:56:46.975135Z",
     "start_time": "2022-08-18T14:56:46.966138Z"
    }
   },
   "outputs": [
    {
     "ename": "ModuleNotFoundError",
     "evalue": "No module named 'pandas'",
     "output_type": "error",
     "traceback": [
      "\u001b[1;31m---------------------------------------------------------------------------\u001b[0m",
      "\u001b[1;31mModuleNotFoundError\u001b[0m                       Traceback (most recent call last)",
      "\u001b[1;32mc:\\Users\\Pedro\\Desktop\\Data Science\\Comunidade DS\\Data Science em Produção\\.ipynb_checkpoints\\Store Sales Prediction - 02.ipynb Cell 2'\u001b[0m in \u001b[0;36m<cell line: 1>\u001b[1;34m()\u001b[0m\n\u001b[1;32m----> <a href='vscode-notebook-cell:/c%3A/Users/Pedro/Desktop/Data%20Science/Comunidade%20DS/Data%20Science%20em%20Produ%C3%A7%C3%A3o/.ipynb_checkpoints/Store%20Sales%20Prediction%20-%2002.ipynb#ch0000001?line=0'>1</a>\u001b[0m \u001b[39mimport\u001b[39;00m \u001b[39mpandas\u001b[39;00m \u001b[39mas\u001b[39;00m \u001b[39mpd\u001b[39;00m\n\u001b[0;32m      <a href='vscode-notebook-cell:/c%3A/Users/Pedro/Desktop/Data%20Science/Comunidade%20DS/Data%20Science%20em%20Produ%C3%A7%C3%A3o/.ipynb_checkpoints/Store%20Sales%20Prediction%20-%2002.ipynb#ch0000001?line=1'>2</a>\u001b[0m \u001b[39mimport\u001b[39;00m \u001b[39minflection\u001b[39;00m\n\u001b[0;32m      <a href='vscode-notebook-cell:/c%3A/Users/Pedro/Desktop/Data%20Science/Comunidade%20DS/Data%20Science%20em%20Produ%C3%A7%C3%A3o/.ipynb_checkpoints/Store%20Sales%20Prediction%20-%2002.ipynb#ch0000001?line=2'>3</a>\u001b[0m \u001b[39mimport\u001b[39;00m \u001b[39mmath\u001b[39;00m\n",
      "\u001b[1;31mModuleNotFoundError\u001b[0m: No module named 'pandas'"
     ]
    }
   ],
   "source": [
    "import pandas as pd\n",
    "import inflection\n",
    "import math\n",
    "import numpy as np\n",
    "\n",
    "import seaborn as sns\n",
    "\n",
    "from matplotlib import pyplot as plt\n",
    "from IPython.core.display import HTML\n"
   ]
  },
  {
   "cell_type": "markdown",
   "id": "08331ac3",
   "metadata": {},
   "source": [
    "## 0.1 Helper Functions"
   ]
  },
  {
   "cell_type": "code",
   "execution_count": null,
   "id": "1aff5f67",
   "metadata": {
    "ExecuteTime": {
     "end_time": "2022-08-18T14:58:30.370794Z",
     "start_time": "2022-08-18T14:58:30.357801Z"
    }
   },
   "outputs": [],
   "source": [
    "def jupyter_settings():\n",
    "    %matplotlib inline\n",
    "    %pylab inline\n",
    "    \n",
    "    plt.style.use( 'bmh' )\n",
    "    plt.rcParams['figure.figsize'] = [25, 12]\n",
    "    plt.rcParams['font.size'] = 24\n",
    "   \n",
    "\n",
    "    display( HTML( '<style>.container { width:80% !important; }</style>') )\n",
    "    pd.options.display.max_columns = None\n",
    "    pd.options.display.max_rows = None\n",
    "    pd.set_option( 'display.expand_frame_repr', False )\n",
    "    \n",
    "    sns.set()"
   ]
  },
  {
   "cell_type": "code",
   "execution_count": null,
   "id": "f60ea8c6",
   "metadata": {
    "ExecuteTime": {
     "end_time": "2022-08-18T14:58:32.012407Z",
     "start_time": "2022-08-18T14:58:31.997412Z"
    }
   },
   "outputs": [],
   "source": [
    "jupyter_settings()"
   ]
  },
  {
   "cell_type": "markdown",
   "id": "7b2992df",
   "metadata": {},
   "source": [
    "## 0.2 Loading Data"
   ]
  },
  {
   "cell_type": "code",
   "execution_count": null,
   "id": "8e381039",
   "metadata": {
    "ExecuteTime": {
     "end_time": "2022-08-18T13:52:12.581479Z",
     "start_time": "2022-08-18T13:52:11.343877Z"
    }
   },
   "outputs": [],
   "source": [
    "df_sales_raw = pd.read_csv('C:/Users/Pedro/Desktop/Data Science/Comunidade DS/Data Science em Produção/Rossman Store/train.csv')\n",
    "df_store_raw = pd.read_csv('C:/Users/Pedro/Desktop/Data Science/Comunidade DS/Data Science em Produção/Rossman Store/store.csv')\n",
    "\n",
    "df_raw = pd.merge( df_sales_raw, df_store_raw, how='left', on='Store' )"
   ]
  },
  {
   "cell_type": "markdown",
   "id": "a3b1fcf6",
   "metadata": {},
   "source": [
    "# 1.0 Descrição dos dados"
   ]
  },
  {
   "cell_type": "code",
   "execution_count": null,
   "id": "0a9bd33b",
   "metadata": {
    "ExecuteTime": {
     "end_time": "2022-08-18T13:52:14.423129Z",
     "start_time": "2022-08-18T13:52:14.217195Z"
    }
   },
   "outputs": [],
   "source": [
    "# Copiando o dataset para outra variável, afim de não modificar o original\n",
    "\n",
    "df1 = df_raw.copy()"
   ]
  },
  {
   "cell_type": "markdown",
   "id": "d6b8d22a",
   "metadata": {},
   "source": [
    "## 1.1 Rename Columns"
   ]
  },
  {
   "cell_type": "code",
   "execution_count": null,
   "id": "7703c647",
   "metadata": {
    "ExecuteTime": {
     "end_time": "2022-08-18T13:52:15.600759Z",
     "start_time": "2022-08-18T13:52:15.591762Z"
    }
   },
   "outputs": [],
   "source": [
    "old_cols = ['Store', 'DayOfWeek', 'Date', 'Sales', 'Customers', 'Open', 'Promo', 'StateHoliday', 'SchoolHoliday', 'StoreType', 'Assortment', 'CompetitionDistance', 'CompetitionOpenSinceMonth', 'CompetitionOpenSinceYear', 'Promo2', 'Promo2SinceWeek', 'Promo2SinceYear', 'PromoInterval']\n",
    "\n",
    "snakecase = lambda x: inflection.underscore( x )\n",
    "\n",
    "new_cols = list( map( snakecase, old_cols ) )\n",
    "\n",
    "df1.columns = new_cols"
   ]
  },
  {
   "cell_type": "markdown",
   "id": "b8612161",
   "metadata": {},
   "source": [
    "## 1.2 Data Dimensions"
   ]
  },
  {
   "cell_type": "code",
   "execution_count": null,
   "id": "1e60f810",
   "metadata": {
    "ExecuteTime": {
     "end_time": "2022-08-18T13:52:17.051357Z",
     "start_time": "2022-08-18T13:52:17.040363Z"
    }
   },
   "outputs": [],
   "source": [
    "print('Number of Rows: {}'.format( df1.shape[0] ) )\n",
    "print('Number of Columns: {}'.format( df1.shape[1] ) )"
   ]
  },
  {
   "cell_type": "markdown",
   "id": "2a219daf",
   "metadata": {},
   "source": [
    "## 1.3 Data Types"
   ]
  },
  {
   "cell_type": "code",
   "execution_count": null,
   "id": "80ed006e",
   "metadata": {
    "ExecuteTime": {
     "end_time": "2022-08-18T13:52:18.610883Z",
     "start_time": "2022-08-18T13:52:18.440938Z"
    }
   },
   "outputs": [],
   "source": [
    "df1['date'] = pd.to_datetime( df1['date'] )\n",
    "\n",
    "df1.dtypes"
   ]
  },
  {
   "cell_type": "markdown",
   "id": "0df3ae8c",
   "metadata": {},
   "source": [
    "## 1.4 Check NA"
   ]
  },
  {
   "cell_type": "code",
   "execution_count": null,
   "id": "7f08de45",
   "metadata": {
    "ExecuteTime": {
     "end_time": "2022-08-18T13:52:19.943542Z",
     "start_time": "2022-08-18T13:52:19.712617Z"
    }
   },
   "outputs": [],
   "source": [
    "df1.isna().sum()"
   ]
  },
  {
   "cell_type": "markdown",
   "id": "ef13312b",
   "metadata": {},
   "source": [
    "## 1.5 Fillout NA"
   ]
  },
  {
   "cell_type": "code",
   "execution_count": null,
   "id": "655b2eb2",
   "metadata": {
    "ExecuteTime": {
     "end_time": "2022-08-18T13:52:29.370556Z",
     "start_time": "2022-08-18T13:52:23.687380Z"
    }
   },
   "outputs": [],
   "source": [
    "## competition_distance              \n",
    "\n",
    "df1['competition_distance'] = df1['competition_distance'].apply( lambda x : 200000.0 if math.isnan( x ) else x )\n",
    "\n",
    "\n",
    "# competition_open_since_month \n",
    "\n",
    "df1['competition_open_since_month'] = df1.apply( lambda x: x['date'].month if math.isnan( x['competition_open_since_month'] ) else \n",
    "                                           x['competition_open_since_month'], axis=1 )\n",
    "\n",
    "\n",
    "# competition_open_since_year   \n",
    "\n",
    "df1['competition_open_since_year'] = df1.apply( lambda x: x['date'].year if math.isnan( x['competition_open_since_year'] ) else \n",
    "                                           x['competition_open_since_year'], axis=1 )\n",
    "\n",
    "\n",
    "# promo2_since_week\n",
    "\n",
    "df1['promo2_since_week'] = df1.apply( lambda x: x['date'].week if math.isnan( x['promo2_since_week'] ) else \n",
    "                                           x['promo2_since_week'], axis=1 )\n",
    "\n",
    "\n",
    "\n",
    "# promo2_since_year\n",
    "\n",
    "df1['promo2_since_year'] = df1.apply( lambda x: x['date'].year if math.isnan( x['promo2_since_year'] ) else \n",
    "                                           x['promo2_since_year'], axis=1 )\n",
    "\n",
    "\n",
    "# promo_interval\n",
    "\n",
    "month_map = {1: 'Jan', 2: 'Feb', 3: 'Mar', 4: 'Apr', 5: 'May', 6: 'Jun', \n",
    "             7: 'Jul', 8: 'Aug', 9: 'Sept', 10:'Oct', 11: 'Nov', 12: 'Dec'}\n",
    "\n",
    "\n",
    "df1['promo_interval'].fillna(0, inplace=True)\n",
    "\n",
    "df1['month_map'] = df1['date'].dt.month.map( month_map )\n",
    "\n",
    "df1['is_promo'] = df1[['promo_interval', 'month_map']].apply( lambda x: 0 if x['promo_interval'] == 0 else\n",
    "                                                             1 if x['month_map'] in x['promo_interval'].split(',') \n",
    "                                                             else 0, axis=1 )\n",
    "\n",
    "\n"
   ]
  },
  {
   "cell_type": "code",
   "execution_count": null,
   "id": "48549b5b",
   "metadata": {
    "cell_style": "split",
    "hide_input": true
   },
   "outputs": [],
   "source": []
  },
  {
   "cell_type": "markdown",
   "id": "ea7ad53d",
   "metadata": {},
   "source": [
    "## 1.6 Change Types"
   ]
  },
  {
   "cell_type": "code",
   "execution_count": null,
   "id": "b45a2753",
   "metadata": {
    "ExecuteTime": {
     "end_time": "2022-08-18T13:52:29.371556Z",
     "start_time": "2022-08-18T13:52:29.371556Z"
    },
    "scrolled": true
   },
   "outputs": [],
   "source": [
    "df1['competition_open_since_month'] = df1['competition_open_since_month'].astype(  np.int64  )\n",
    "df1['competition_open_since_year'] = df1['competition_open_since_year'].astype(  np.int64  )\n",
    "\n",
    "df1['promo2_since_week'] = df1['promo2_since_week'].astype( np.int64 )\n",
    "df1['promo2_since_year'] = df1['promo2_since_year'].astype(  np.int64  )"
   ]
  },
  {
   "cell_type": "code",
   "execution_count": null,
   "id": "0a1dfe78",
   "metadata": {
    "ExecuteTime": {
     "end_time": "2022-08-18T13:19:04.030281Z",
     "start_time": "2022-08-18T13:19:04.017286Z"
    }
   },
   "outputs": [],
   "source": [
    "df1.dtypes"
   ]
  },
  {
   "cell_type": "markdown",
   "id": "57ba009c",
   "metadata": {},
   "source": [
    "## 1.7 Descriptive Statistical"
   ]
  },
  {
   "cell_type": "code",
   "execution_count": null,
   "id": "86e15a4e",
   "metadata": {
    "ExecuteTime": {
     "end_time": "2022-08-18T13:52:31.941000Z",
     "start_time": "2022-08-18T13:52:31.817042Z"
    }
   },
   "outputs": [],
   "source": [
    "num_attributes = df1.select_dtypes( include=['int64', 'float64'] )\n",
    "cat_attributes = df1.select_dtypes( exclude=['int64', 'float64', 'datetime64[ns]'] )"
   ]
  },
  {
   "cell_type": "code",
   "execution_count": null,
   "id": "f4adee68",
   "metadata": {
    "ExecuteTime": {
     "end_time": "2022-08-18T14:57:07.612135Z",
     "start_time": "2022-08-18T14:57:04.109260Z"
    }
   },
   "outputs": [],
   "source": [
    "# Central Tendency - mean, median\n",
    "\n",
    "ct1 = pd.DataFrame( num_attributes.apply( np.mean ) ).T\n",
    "ct2 = pd.DataFrame( num_attributes.apply( np.median ) ).T\n",
    "\n",
    "# Dispersion - std, min, max, range, skew, kurtosis\n",
    "\n",
    "d1 = pd.DataFrame( num_attributes.apply( np.std ) ).T\n",
    "d2 = pd.DataFrame( num_attributes.apply( min ) ).T\n",
    "d3 = pd.DataFrame( num_attributes.apply( max ) ).T\n",
    "d4 = pd.DataFrame( num_attributes.apply( lambda x: x.max() - x.min() ) ).T\n",
    "d5 = pd.DataFrame( num_attributes.apply( lambda x: x.skew() ) ).T\n",
    "d6 = pd.DataFrame( num_attributes.apply( lambda x: x.kurtosis() ) ).T\n",
    "\n",
    "# Concat\n",
    "m = pd.concat( [d2, d3, d4, ct1, ct2, d1, d5, d6] ).T.reset_index()\n",
    "m.columns = ['attributes', 'min', 'max', 'range', 'mean', 'median', 'std', 'skew', 'kurtosis']\n"
   ]
  },
  {
   "cell_type": "code",
   "execution_count": null,
   "id": "d9b74fdf",
   "metadata": {
    "ExecuteTime": {
     "end_time": "2022-08-18T14:58:01.603595Z",
     "start_time": "2022-08-18T14:57:49.901353Z"
    }
   },
   "outputs": [],
   "source": [
    "sns.distplot( df1['competition_distance'] )"
   ]
  },
  {
   "cell_type": "code",
   "execution_count": null,
   "id": "57f67694",
   "metadata": {
    "ExecuteTime": {
     "end_time": "2022-08-18T14:58:39.060947Z",
     "start_time": "2022-08-18T14:58:38.350175Z"
    }
   },
   "outputs": [],
   "source": [
    "\n",
    "\n",
    "aux1 = df1[ ( df1['state_holiday'] != '0') & ( df1['sales'] > 0 ) & ( df1['state_holiday'] != 0)]\n",
    "\n",
    "plt.subplot( 1, 3, 1 )\n",
    "sns.boxplot( data=aux1, x='state_holiday', y='sales' )\n",
    "\n",
    "plt.subplot( 1, 3, 2 )\n",
    "sns.boxplot( data=aux1, x='store_type', y='sales' )\n",
    "\n",
    "plt.subplot( 1, 3, 3 )\n",
    "sns.boxplot( data=aux1, x='assortment', y='sales' )"
   ]
  },
  {
   "cell_type": "markdown",
   "id": "f7c174c9",
   "metadata": {},
   "source": [
    "## 1.8"
   ]
  },
  {
   "cell_type": "code",
   "execution_count": null,
   "id": "d2ffabd5",
   "metadata": {},
   "outputs": [],
   "source": []
  }
 ],
 "metadata": {
  "kernelspec": {
   "display_name": "Python 3.9.7 64-bit",
   "language": "python",
   "name": "python3"
  },
  "language_info": {
   "codemirror_mode": {
    "name": "ipython",
    "version": 3
   },
   "file_extension": ".py",
   "mimetype": "text/x-python",
   "name": "python",
   "nbconvert_exporter": "python",
   "pygments_lexer": "ipython3",
   "version": "3.9.7"
  },
  "vscode": {
   "interpreter": {
    "hash": "ecc01959a3fa6e370fa1785e6cca03f3405a3d40925e8097c2a14ac91635be9e"
   }
  }
 },
 "nbformat": 4,
 "nbformat_minor": 5
}
