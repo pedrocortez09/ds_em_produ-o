{
 "cells": [
  {
   "cell_type": "markdown",
   "id": "b1ebda6b",
   "metadata": {
    "heading_collapsed": true
   },
   "source": [
    "# 0. IMPORTS"
   ]
  },
  {
   "cell_type": "code",
   "execution_count": 1,
   "id": "a75e0c1a",
   "metadata": {
    "ExecuteTime": {
     "end_time": "2022-10-04T22:20:29.752788Z",
     "start_time": "2022-10-04T22:20:27.656458Z"
    },
    "hidden": true
   },
   "outputs": [],
   "source": [
    "import math\n",
    "import numpy as np\n",
    "import pandas as pd\n",
    "import random\n",
    "import pickle\n",
    "import warnings\n",
    "import inflection\n",
    "import seaborn as sns\n",
    "import xgboost as xgb\n",
    "import random\n",
    "import warnings\n",
    "import datetime\n",
    "from flask import Flask, request, Response\n",
    "\n",
    "\n",
    "from scipy import stats\n",
    "from boruta import BorutaPy\n",
    "from matplotlib import pyplot as plt\n",
    "from IPython.display import Image\n",
    "from IPython.core.display import HTML\n",
    "from tabulate import tabulate\n",
    "\n",
    "from sklearn.metrics import mean_absolute_error, mean_absolute_percentage_error, mean_squared_error\n",
    "from sklearn.ensemble import RandomForestRegressor\n",
    "from sklearn.linear_model import LinearRegression, Lasso\n",
    "from sklearn.preprocessing import RobustScaler, MinMaxScaler, LabelEncoder\n",
    "\n",
    "warnings.filterwarnings( 'ignore' )"
   ]
  },
  {
   "cell_type": "markdown",
   "id": "08331ac3",
   "metadata": {
    "hidden": true
   },
   "source": [
    "## 0.1 Helper Functions"
   ]
  },
  {
   "cell_type": "code",
   "execution_count": 2,
   "id": "1aff5f67",
   "metadata": {
    "ExecuteTime": {
     "end_time": "2022-10-04T22:20:36.475346Z",
     "start_time": "2022-10-04T22:20:36.424357Z"
    },
    "hidden": true
   },
   "outputs": [],
   "source": [
    "def cross_validation( x_training, kfold, model_name, model, verbose=False ):\n",
    "    mae_list = []\n",
    "    mape_list = []\n",
    "    rmse_list = []\n",
    "    for k in reversed( range( 1, kfold+1 ) ):\n",
    "        if verbose:\n",
    "            print( '\\nKFold Number: {}'.format( k ) )\n",
    "        # Start and End date for Validation\n",
    "        validation_start_date = x_training['date'].max() - datetime.timedelta( days=k*6*7 )\n",
    "        validation_end_date = x_training['date'].max() - datetime.timedelta( days=(k-1)*6*7 )\n",
    "        \n",
    "        # Filtering DataSet\n",
    "        training = x_training[x_training['date'] < validation_start_date ]\n",
    "        validation = x_training[ ( x_training['date'] >= validation_start_date ) & ( x_training['date'] <= validation_end_date ) ]\n",
    "        \n",
    "        # Training and validation DataSet\n",
    "        xtraining = training.drop([ 'date', 'sales' ], axis=1)\n",
    "        ytraining = training['sales']\n",
    "        \n",
    "        # Validation\n",
    "        xvalidation = validation.drop([ 'date', 'sales' ], axis=1)\n",
    "        yvalidation = validation['sales']\n",
    "        \n",
    "        # Model\n",
    "        m = model.fit( xtraining, ytraining )\n",
    "        \n",
    "        # Prediction\n",
    "        yhat = m.predict( xvalidation )\n",
    "        \n",
    "        # Performance\n",
    "        m_result = ml_error( model_name, np.expm1( yvalidation ), np.expm1( yhat ) )\n",
    "        \n",
    "        # Store performance of each kfold iteration\n",
    "        mae_list.append( m_result['MAE'] )\n",
    "        mape_list.append( m_result['MAPE'] )\n",
    "        rmse_list.append( m_result['RMSE'] )\n",
    "        \n",
    "    return pd.DataFrame( {'Model Name': model_name,\n",
    "                         'MAE CV': np.round( np.mean( mae_list ), 2 ).astype( str ) + ' +/- ' + np.round( np.std( mae_list ), 2 ).astype( str ),\n",
    "                         'MAPE CV': np.round( np.mean( mape_list ), 2 ).astype( str ) + ' +/- ' + np.round( np.std( mape_list ), 2 ).astype( str ),\n",
    "                         'RMSE CV': np.round( np.mean( rmse_list ), 2 ).astype( str ) + ' +/- ' + np.round( np.std( rmse_list ), 2 ).astype( str )}, index=[0] )\n",
    "        \n",
    "\n",
    "\n",
    "    \n",
    "    \n",
    "    \n",
    "def mean_absolute_percentage_error( y, yhat ):\n",
    "    return np.mean( np.abs( ( y - yhat ) / y ) )\n",
    "    \n",
    "    \n",
    "def mean_percentage_error( y, yhat ):\n",
    "    return np.mean( ( y - yhat ) / y )\n",
    "\n",
    "\n",
    "def jupyter_settings():\n",
    "    %matplotlib inline\n",
    "    %pylab inline\n",
    "    \n",
    "    plt.style.use( 'bmh' )\n",
    "    plt.rcParams['figure.figsize'] = [25, 12]\n",
    "    plt.rcParams['font.size'] = 24\n",
    "   \n",
    "\n",
    "    display( HTML( '<style>.container { width:80% !important; }</style>') )\n",
    "    pd.options.display.max_columns = None\n",
    "    pd.options.display.max_rows = None\n",
    "    pd.set_option( 'display.expand_frame_repr', False )\n",
    "    \n",
    "    sns.set()\n",
    "    \n",
    "    \n",
    "def cramer_v( x, y ):\n",
    "    cm = pd.crosstab( x, y ).to_numpy()\n",
    "    n = cm.sum()\n",
    "    r, k = cm.shape\n",
    "\n",
    "    chi2 = stats.chi2_contingency( cm )[0]\n",
    "    chi2corr = max( 0, chi2 - (k-1)*(r-1)/(n-1) )\n",
    "\n",
    "    kcorr = k - (k-1)**2/(n-1)\n",
    "    rcorr = r - (r-1)**2/(n-1)\n",
    "    return np.sqrt( (chi2corr/n) / ( min( kcorr-1, rcorr-1 ) ) )\n",
    "\n",
    "\n",
    "def ml_error( model_name, y, yhat ):\n",
    "    mae = mean_absolute_error( y, yhat )\n",
    "    mape = mean_absolute_percentage_error( y, yhat )\n",
    "    rmse = np.sqrt( mean_squared_error( y, yhat ) )\n",
    "    \n",
    "    return pd.DataFrame( { 'Model Name': model_name, 'MAE': mae, 'MAPE': mape, 'RMSE': rmse }, index=[0] )"
   ]
  },
  {
   "cell_type": "code",
   "execution_count": null,
   "id": "f60ea8c6",
   "metadata": {
    "ExecuteTime": {
     "end_time": "2022-10-04T17:49:55.330264Z",
     "start_time": "2022-10-04T17:49:55.306273Z"
    },
    "hidden": true
   },
   "outputs": [],
   "source": [
    "jupyter_settings()"
   ]
  },
  {
   "cell_type": "markdown",
   "id": "7b2992df",
   "metadata": {
    "hidden": true
   },
   "source": [
    "## 0.2 Loading Data"
   ]
  },
  {
   "cell_type": "code",
   "execution_count": 3,
   "id": "8e381039",
   "metadata": {
    "ExecuteTime": {
     "end_time": "2022-10-04T22:20:43.722430Z",
     "start_time": "2022-10-04T22:20:42.431791Z"
    },
    "hidden": true
   },
   "outputs": [],
   "source": [
    "df_sales_raw = pd.read_csv('C:/Users/Pedro/Desktop/Data Science/Comunidade DS/Data Science em Produção/Rossman Store/train.csv')\n",
    "df_store_raw = pd.read_csv('C:/Users/Pedro/Desktop/Data Science/Comunidade DS/Data Science em Produção/Rossman Store/store.csv')\n",
    "\n",
    "df_raw = pd.merge( df_sales_raw, df_store_raw, how='left', on='Store' )"
   ]
  },
  {
   "cell_type": "code",
   "execution_count": null,
   "id": "8e4de4d2",
   "metadata": {
    "ExecuteTime": {
     "end_time": "2022-10-04T12:59:56.016041Z",
     "start_time": "2022-10-04T12:59:55.987051Z"
    },
    "hidden": true
   },
   "outputs": [],
   "source": [
    "#convert_dict = {'CompetitionDistance': int, 'CompetitionOpenSinceMonth': int, 'CompetitionOpenSinceYear': int, \n",
    "#                'Promo2SinceWeek': int, 'Promo2SinceYear': int}\n",
    "\n",
    "#df_store_raw = df_store_raw.astype(convert_dict)"
   ]
  },
  {
   "cell_type": "markdown",
   "id": "a3b1fcf6",
   "metadata": {
    "heading_collapsed": true
   },
   "source": [
    "# 1.0. DESCRIÇÃO DOS DADOS"
   ]
  },
  {
   "cell_type": "code",
   "execution_count": null,
   "id": "0a9bd33b",
   "metadata": {
    "ExecuteTime": {
     "end_time": "2022-10-04T13:01:03.236390Z",
     "start_time": "2022-10-04T13:01:03.021449Z"
    },
    "hidden": true
   },
   "outputs": [],
   "source": [
    "# Copiando o dataset para outra variável, afim de não modificar o original\n",
    "\n",
    "df1 = df_raw.copy()"
   ]
  },
  {
   "cell_type": "markdown",
   "id": "d6b8d22a",
   "metadata": {
    "hidden": true
   },
   "source": [
    "## 1.1 Rename Columns"
   ]
  },
  {
   "cell_type": "code",
   "execution_count": null,
   "id": "7703c647",
   "metadata": {
    "ExecuteTime": {
     "end_time": "2022-10-04T13:01:04.460973Z",
     "start_time": "2022-10-04T13:01:04.450976Z"
    },
    "hidden": true
   },
   "outputs": [],
   "source": [
    "old_cols = ['Store', 'DayOfWeek', 'Date', 'Sales', 'Customers', 'Open', 'Promo', 'StateHoliday', 'SchoolHoliday', 'StoreType', 'Assortment', 'CompetitionDistance', 'CompetitionOpenSinceMonth', 'CompetitionOpenSinceYear', 'Promo2', 'Promo2SinceWeek', 'Promo2SinceYear', 'PromoInterval']\n",
    "\n",
    "snakecase = lambda x: inflection.underscore( x )\n",
    "\n",
    "new_cols = list( map( snakecase, old_cols ) )\n",
    "\n",
    "df1.columns = new_cols"
   ]
  },
  {
   "cell_type": "markdown",
   "id": "b8612161",
   "metadata": {
    "hidden": true
   },
   "source": [
    "## 1.2 Data Dimensions"
   ]
  },
  {
   "cell_type": "code",
   "execution_count": null,
   "id": "1e60f810",
   "metadata": {
    "ExecuteTime": {
     "end_time": "2022-10-03T20:43:11.953871Z",
     "start_time": "2022-10-03T20:43:11.942875Z"
    },
    "hidden": true
   },
   "outputs": [],
   "source": [
    "print('Number of Rows: {}'.format( df1.shape[0] ) )\n",
    "print('Number of Columns: {}'.format( df1.shape[1] ) )"
   ]
  },
  {
   "cell_type": "markdown",
   "id": "2a219daf",
   "metadata": {
    "hidden": true
   },
   "source": [
    "## 1.3 Data Types"
   ]
  },
  {
   "cell_type": "code",
   "execution_count": null,
   "id": "80ed006e",
   "metadata": {
    "ExecuteTime": {
     "end_time": "2022-10-04T13:01:12.061907Z",
     "start_time": "2022-10-04T13:01:11.875966Z"
    },
    "hidden": true
   },
   "outputs": [],
   "source": [
    "df1['date'] = pd.to_datetime( df1['date'] )\n",
    "\n",
    "df1.dtypes"
   ]
  },
  {
   "cell_type": "markdown",
   "id": "0df3ae8c",
   "metadata": {
    "hidden": true
   },
   "source": [
    "## 1.4 Check NA"
   ]
  },
  {
   "cell_type": "code",
   "execution_count": null,
   "id": "7f08de45",
   "metadata": {
    "ExecuteTime": {
     "end_time": "2022-10-04T13:01:17.599891Z",
     "start_time": "2022-10-04T13:01:17.363968Z"
    },
    "hidden": true
   },
   "outputs": [],
   "source": [
    "df1.isna().sum()"
   ]
  },
  {
   "cell_type": "markdown",
   "id": "ef13312b",
   "metadata": {
    "hidden": true
   },
   "source": [
    "## 1.5 Fillout NA"
   ]
  },
  {
   "cell_type": "code",
   "execution_count": null,
   "id": "655b2eb2",
   "metadata": {
    "ExecuteTime": {
     "end_time": "2022-10-04T13:03:14.849499Z",
     "start_time": "2022-10-04T13:01:19.666008Z"
    },
    "hidden": true
   },
   "outputs": [],
   "source": [
    "## competition_distance              \n",
    "\n",
    "df1['competition_distance'] = df1['competition_distance'].apply( lambda x : 200000.0 if math.isnan( x ) else x )\n",
    "\n",
    "\n",
    "# competition_open_since_month \n",
    "\n",
    "df1['competition_open_since_month'] = df1.apply( lambda x: x['date'].month if math.isnan( x['competition_open_since_month'] ) else \n",
    "                                           x['competition_open_since_month'], axis=1 )\n",
    "\n",
    "\n",
    "# competition_open_since_year   \n",
    "\n",
    "df1['competition_open_since_year'] = df1.apply( lambda x: x['date'].year if math.isnan( x['competition_open_since_year'] ) else \n",
    "                                           x['competition_open_since_year'], axis=1 )\n",
    "\n",
    "\n",
    "# promo2_since_week\n",
    "\n",
    "df1['promo2_since_week'] = df1.apply( lambda x: x['date'].week if math.isnan( x['promo2_since_week'] ) else \n",
    "                                           x['promo2_since_week'], axis=1 )\n",
    "\n",
    "\n",
    "\n",
    "# promo2_since_year\n",
    "\n",
    "df1['promo2_since_year'] = df1.apply( lambda x: x['date'].year if math.isnan( x['promo2_since_year'] ) else \n",
    "                                           x['promo2_since_year'], axis=1 )\n",
    "\n",
    "\n",
    "# promo_interval\n",
    "\n",
    "month_map = {1: 'Jan', 2: 'Feb', 3: 'Mar', 4: 'Apr', 5: 'May', 6: 'Jun', \n",
    "             7: 'Jul', 8: 'Aug', 9: 'Sept', 10:'Oct', 11: 'Nov', 12: 'Dec'}\n",
    "\n",
    "\n",
    "df1['promo_interval'].fillna(0, inplace=True)\n",
    "\n",
    "df1['month_map'] = df1['date'].dt.month.map( month_map )\n",
    "\n",
    "df1['is_promo'] = df1[['promo_interval', 'month_map']].apply( lambda x: 0 if x['promo_interval'] == 0 else\n",
    "                                                             1 if x['month_map'] in x['promo_interval'].split(',') \n",
    "                                                             else 0, axis=1 )\n",
    "\n",
    "\n"
   ]
  },
  {
   "cell_type": "markdown",
   "id": "ea7ad53d",
   "metadata": {
    "hidden": true
   },
   "source": [
    "## 1.6 Change Types"
   ]
  },
  {
   "cell_type": "code",
   "execution_count": null,
   "id": "b45a2753",
   "metadata": {
    "ExecuteTime": {
     "end_time": "2022-10-04T13:07:22.671481Z",
     "start_time": "2022-10-04T13:07:22.614500Z"
    },
    "hidden": true,
    "scrolled": true
   },
   "outputs": [],
   "source": [
    "df1['competition_open_since_month'] = df1['competition_open_since_month'].astype(  np.int64  )\n",
    "df1['competition_open_since_year'] = df1['competition_open_since_year'].astype(  np.int64  )\n",
    "\n",
    "df1['promo2_since_week'] = df1['promo2_since_week'].astype( np.int64 )\n",
    "df1['promo2_since_year'] = df1['promo2_since_year'].astype(  np.int64  )"
   ]
  },
  {
   "cell_type": "markdown",
   "id": "57ba009c",
   "metadata": {
    "hidden": true
   },
   "source": [
    "## 1.7 Descriptive Statistical"
   ]
  },
  {
   "cell_type": "code",
   "execution_count": null,
   "id": "86e15a4e",
   "metadata": {
    "ExecuteTime": {
     "end_time": "2022-10-03T20:45:02.486801Z",
     "start_time": "2022-10-03T20:45:02.271871Z"
    },
    "hidden": true
   },
   "outputs": [],
   "source": [
    "num_attributes = df1.select_dtypes( include=['int64', 'float64'] )\n",
    "cat_attributes = df1.select_dtypes( exclude=['int64', 'float64', 'datetime64[ns]'] )"
   ]
  },
  {
   "cell_type": "code",
   "execution_count": null,
   "id": "f4adee68",
   "metadata": {
    "ExecuteTime": {
     "end_time": "2022-10-03T20:45:07.521026Z",
     "start_time": "2022-10-03T20:45:03.930822Z"
    },
    "hidden": true
   },
   "outputs": [],
   "source": [
    "# Central Tendency - mean, median\n",
    "\n",
    "ct1 = pd.DataFrame( num_attributes.apply( np.mean ) ).T\n",
    "ct2 = pd.DataFrame( num_attributes.apply( np.median ) ).T\n",
    "\n",
    "# Dispersion - std, min, max, range, skew, kurtosis\n",
    "\n",
    "d1 = pd.DataFrame( num_attributes.apply( np.std ) ).T\n",
    "d2 = pd.DataFrame( num_attributes.apply( min ) ).T\n",
    "d3 = pd.DataFrame( num_attributes.apply( max ) ).T\n",
    "d4 = pd.DataFrame( num_attributes.apply( lambda x: x.max() - x.min() ) ).T\n",
    "d5 = pd.DataFrame( num_attributes.apply( lambda x: x.skew() ) ).T\n",
    "d6 = pd.DataFrame( num_attributes.apply( lambda x: x.kurtosis() ) ).T\n",
    "\n",
    "# Concat\n",
    "m = pd.concat( [d2, d3, d4, ct1, ct2, d1, d5, d6] ).T.reset_index()\n",
    "m.columns = ['attributes', 'min', 'max', 'range', 'mean', 'median', 'std', 'skew', 'kurtosis']\n",
    "m"
   ]
  },
  {
   "cell_type": "code",
   "execution_count": null,
   "id": "d9b74fdf",
   "metadata": {
    "ExecuteTime": {
     "end_time": "2022-10-03T20:45:19.351467Z",
     "start_time": "2022-10-03T20:45:07.523025Z"
    },
    "hidden": true
   },
   "outputs": [],
   "source": [
    "sns.distplot( df1['competition_distance'] );"
   ]
  },
  {
   "cell_type": "code",
   "execution_count": null,
   "id": "57f67694",
   "metadata": {
    "ExecuteTime": {
     "end_time": "2022-10-03T20:45:20.085230Z",
     "start_time": "2022-10-03T20:45:19.353467Z"
    },
    "hidden": true
   },
   "outputs": [],
   "source": [
    "\n",
    "\n",
    "aux1 = df1[ ( df1['state_holiday'] != '0') & ( df1['sales'] > 0 ) & ( df1['state_holiday'] != 0)]\n",
    "\n",
    "plt.subplot( 1, 3, 1 )\n",
    "sns.boxplot( data=aux1, x='state_holiday', y='sales' )\n",
    "\n",
    "plt.subplot( 1, 3, 2 )\n",
    "sns.boxplot( data=aux1, x='store_type', y='sales' )\n",
    "\n",
    "plt.subplot( 1, 3, 3 )\n",
    "sns.boxplot( data=aux1, x='assortment', y='sales' );"
   ]
  },
  {
   "cell_type": "markdown",
   "id": "f7c174c9",
   "metadata": {
    "heading_collapsed": true
   },
   "source": [
    "# 2.0. FEATURE ENGINEERING"
   ]
  },
  {
   "cell_type": "code",
   "execution_count": null,
   "id": "a9104de2",
   "metadata": {
    "ExecuteTime": {
     "end_time": "2022-10-03T20:45:20.147224Z",
     "start_time": "2022-10-03T20:45:20.087231Z"
    },
    "hidden": true
   },
   "outputs": [],
   "source": [
    "df2 = df1.copy()"
   ]
  },
  {
   "cell_type": "markdown",
   "id": "28e83bfd",
   "metadata": {
    "heading_collapsed": true,
    "hidden": true
   },
   "source": [
    "## 2.1. Mapa Mental das Hipóteses"
   ]
  },
  {
   "cell_type": "code",
   "execution_count": null,
   "id": "d2ffabd5",
   "metadata": {
    "ExecuteTime": {
     "end_time": "2022-09-08T14:43:04.736986Z",
     "start_time": "2022-09-08T14:43:04.627833Z"
    },
    "hidden": true
   },
   "outputs": [],
   "source": [
    "Image( 'C:/Users/Pedro/Desktop/Data Science/Comunidade DS/Data Science em Produção/img/MindMapHypotesis.png' )"
   ]
  },
  {
   "cell_type": "markdown",
   "id": "94f96830",
   "metadata": {
    "heading_collapsed": true,
    "hidden": true
   },
   "source": [
    "## 2.2. Criação das Hipóteses    "
   ]
  },
  {
   "cell_type": "markdown",
   "id": "9b584d4e",
   "metadata": {
    "heading_collapsed": true,
    "hidden": true
   },
   "source": [
    "### 2.2.1. Hipóteses de Loja"
   ]
  },
  {
   "cell_type": "markdown",
   "id": "481cba2f",
   "metadata": {
    "ExecuteTime": {
     "end_time": "2022-08-18T19:07:52.041042Z",
     "start_time": "2022-08-18T19:07:52.026047Z"
    },
    "hidden": true
   },
   "source": [
    "**1.** Lojas com número maior de funcionários deveriam vender mais.\n",
    "\n",
    "**2.** Lojas com maior capacidade de estoque deveriam vender mais.\n",
    "\n",
    "**3.** Lojas com maior porte deveriam vender mais.\n",
    "\n",
    "**4.** Lojas com maior sortimentos deveriam vender mais.\n",
    "\n",
    "**5.** Lojas com competidores mais próximos deveriam vender menos.\n",
    "\n",
    "**6.** Lojas com competidores à mais tempo deveriam vendem mais.\n"
   ]
  },
  {
   "cell_type": "markdown",
   "id": "73211d9d",
   "metadata": {
    "heading_collapsed": true,
    "hidden": true
   },
   "source": [
    "### 2.2.2. Hipóteses de Produto"
   ]
  },
  {
   "cell_type": "markdown",
   "id": "e170c8db",
   "metadata": {
    "hidden": true
   },
   "source": [
    "**1.** Lojas que investem mais em Marketing deveriam vender mais.\n",
    "\n",
    "**2.** Lojas com maior exposição de produto deveriam vender mais.\n",
    "\n",
    "**3.** Lojas com produtos com preço menor deveriam vender mais.\n",
    "\n",
    "**4.** Lojas com promoções mais agressivas ( descontos maiores ), deveriam vender mais.\n",
    "\n",
    "**5.** Lojas com promoções ativas por mais tempo deveriam vender mais.\n",
    "\n",
    "**6.** Lojas com mais dias de promoção deveriam vender mais.\n",
    "\n",
    "**7.** Lojas com mais promoções consecutivas deveriam vender mais.\n"
   ]
  },
  {
   "cell_type": "markdown",
   "id": "2af6efc3",
   "metadata": {
    "heading_collapsed": true,
    "hidden": true
   },
   "source": [
    "### 2.2.3. Hipóteses de Tempo"
   ]
  },
  {
   "cell_type": "markdown",
   "id": "5ea5d19c",
   "metadata": {
    "ExecuteTime": {
     "end_time": "2022-08-18T19:11:56.570363Z",
     "start_time": "2022-08-18T19:11:56.556369Z"
    },
    "hidden": true
   },
   "source": [
    "**1.** Lojas abertas durante o feriado de Natal deveriam vender mais.\n",
    "\n",
    "**2.** Lojas deveriam vender mais ao longo dos anos.\n",
    "\n",
    "**3.** Lojas deveriam vender mais no segundo semestre do ano.\n",
    "\n",
    "**4.** Lojas deveriam vender mais depois do dia 10 de cada mês.\n",
    "\n",
    "**5.** Lojas deveriam vender menos aos finais de semana.\n",
    "\n",
    "**6.** Lojas deveriam vender menos durante os feriados escolares.\n"
   ]
  },
  {
   "cell_type": "markdown",
   "id": "ba3ca16b",
   "metadata": {
    "heading_collapsed": true,
    "hidden": true
   },
   "source": [
    "## 2.3. Lista Final das Hipóteses"
   ]
  },
  {
   "cell_type": "markdown",
   "id": "0eca58f3",
   "metadata": {
    "hidden": true
   },
   "source": [
    "**1.** Lojas com maior sortimentos deveriam vender mais.\n",
    "\n",
    "**2.** Lojas com competidores mais próximos deveriam vender menos.\n",
    "\n",
    "**3.** Lojas com competidores à mais tempo deveriam vendem mais.\n",
    "\n",
    "**4.** Lojas com promoções ativas por mais tempo deveriam vender mais.\n",
    "\n",
    "**5.** Lojas com mais dias de promoção deveriam vender mais.\n",
    "\n",
    "**6.** Lojas com mais promoções consecutivas deveriam vender mais.\n",
    "\n",
    "**7.** Lojas abertas durante o feriado de Natal deveriam vender mais.\n",
    "\n",
    "**8.** Lojas deveriam vender mais ao longo dos anos.\n",
    "\n",
    "**9.** Lojas deveriam vender mais no segundo semestre do ano.\n",
    "\n",
    "**10.** Lojas deveriam vender mais depois do dia 10 de cada mês.\n",
    "\n",
    "**11.** Lojas deveriam vender menos aos finais de semana.\n",
    "\n",
    "**12.** Lojas deveriam vender menos durante os feriados escolares."
   ]
  },
  {
   "cell_type": "markdown",
   "id": "14fe9645",
   "metadata": {
    "hidden": true
   },
   "source": [
    "## 2.4. Feature Engineering\n"
   ]
  },
  {
   "cell_type": "code",
   "execution_count": null,
   "id": "24cacd67",
   "metadata": {
    "ExecuteTime": {
     "end_time": "2022-10-03T20:46:31.818291Z",
     "start_time": "2022-10-03T20:45:20.149223Z"
    },
    "hidden": true
   },
   "outputs": [],
   "source": [
    "# year\n",
    "df2['year'] = df2['date'].dt.year\n",
    "\n",
    "# month\n",
    "df2['month'] = df2['date'].dt.month\n",
    "\n",
    "# day\n",
    "df2['day'] = df2['date'].dt.day\n",
    "\n",
    "# week of year\n",
    "df2['week_of_year'] = df2['date'].dt.weekofyear\n",
    "\n",
    "# year week\n",
    "df2['year_week'] = df2['date'].dt.strftime( '%Y-%W' )\n",
    "\n",
    "# competition since\n",
    "df2['competition_since'] = df2.apply( lambda x: datetime.datetime(year=x['competition_open_since_year'], \n",
    "                                                                  month=x['competition_open_since_month'],day=1 ), axis=1 )\n",
    "df2['competition_time_month'] = ( ( df2['date'] - df2['competition_since'] )/30).apply( lambda x: x.days ).astype( int )\n",
    "\n",
    "# promo since\n",
    "df2['promo_since'] = df2['promo2_since_year'].astype( str ) + '-' + df2['promo2_since_week'].astype( str )\n",
    "df2['promo_since'] = df2['promo_since'].apply( lambda x: datetime.datetime.strptime( x + '-1', '%Y-%W-%w' ) - datetime.timedelta( days=7 ) )\n",
    "df2['promo_time_week'] = ( ( df2['date'] - df2['promo_since'] )/7 ).apply(lambda x: x.days ).astype( int )\n",
    "\n",
    "# Assortment\n",
    "df2['assortment'] = df2['assortment'].apply( lambda x: 'basic' if x == 'a' else 'extra' if x == 'b' else 'extended' )\n",
    "\n",
    "# state holiday\n",
    "df2['state_holiday'] = df2['state_holiday'].apply( lambda x: 'public_holiday' if x == 'a' else 'easter_holiday' if x == 'b' \n",
    "                                                                                          else 'christmas' if x == 'c' \n",
    "                                                                                          else 'regular_day' )"
   ]
  },
  {
   "cell_type": "markdown",
   "id": "f7b87719",
   "metadata": {
    "heading_collapsed": true
   },
   "source": [
    "# 3.0. FILTRAGEM DE VARIAVEIS"
   ]
  },
  {
   "cell_type": "code",
   "execution_count": null,
   "id": "5245c5d4",
   "metadata": {
    "ExecuteTime": {
     "end_time": "2022-10-03T20:46:40.413292Z",
     "start_time": "2022-10-03T20:46:40.279335Z"
    },
    "hidden": true
   },
   "outputs": [],
   "source": [
    "df3 = df2.copy()"
   ]
  },
  {
   "cell_type": "code",
   "execution_count": null,
   "id": "bf4071dc",
   "metadata": {
    "ExecuteTime": {
     "end_time": "2022-10-03T20:46:41.421495Z",
     "start_time": "2022-10-03T20:46:41.394501Z"
    },
    "hidden": true
   },
   "outputs": [],
   "source": [
    "df3.head()"
   ]
  },
  {
   "cell_type": "markdown",
   "id": "fed2240a",
   "metadata": {
    "hidden": true
   },
   "source": [
    "## 3.1. Filtragem das linhas"
   ]
  },
  {
   "cell_type": "code",
   "execution_count": null,
   "id": "e2ee2c77",
   "metadata": {
    "ExecuteTime": {
     "end_time": "2022-10-03T20:47:08.029815Z",
     "start_time": "2022-10-03T20:47:07.913853Z"
    },
    "hidden": true
   },
   "outputs": [],
   "source": [
    "df3 = df3[ ( df3['sales'] > 0 ) & df3['sales'] > 0 ]"
   ]
  },
  {
   "cell_type": "markdown",
   "id": "a9bd5e9b",
   "metadata": {
    "hidden": true
   },
   "source": [
    "## 3.2. Seleção das colunas"
   ]
  },
  {
   "cell_type": "code",
   "execution_count": null,
   "id": "d13b0264",
   "metadata": {
    "ExecuteTime": {
     "end_time": "2022-10-03T20:47:12.425836Z",
     "start_time": "2022-10-03T20:47:12.343861Z"
    },
    "hidden": true
   },
   "outputs": [],
   "source": [
    "cols_drop = ['customers', 'open', 'promo_interval', 'month_map']\n",
    "df3 = df3.drop( cols_drop, axis=1 )"
   ]
  },
  {
   "cell_type": "code",
   "execution_count": null,
   "id": "12f15880",
   "metadata": {
    "ExecuteTime": {
     "end_time": "2022-10-03T20:47:13.522794Z",
     "start_time": "2022-10-03T20:47:13.505802Z"
    },
    "hidden": true
   },
   "outputs": [],
   "source": [
    "df3.columns"
   ]
  },
  {
   "cell_type": "markdown",
   "id": "222bef35",
   "metadata": {
    "heading_collapsed": true
   },
   "source": [
    "# 4.0. ANÁLISE EXPLORATORIA DOS DADOS"
   ]
  },
  {
   "cell_type": "code",
   "execution_count": null,
   "id": "1af781f1",
   "metadata": {
    "ExecuteTime": {
     "end_time": "2022-10-03T20:47:21.170901Z",
     "start_time": "2022-10-03T20:47:21.118918Z"
    },
    "hidden": true
   },
   "outputs": [],
   "source": [
    "df4 = df3.copy()"
   ]
  },
  {
   "cell_type": "markdown",
   "id": "d6bfdd89",
   "metadata": {
    "heading_collapsed": true,
    "hidden": true
   },
   "source": [
    "## 4.1. Análise Univariada"
   ]
  },
  {
   "cell_type": "markdown",
   "id": "80edeefe",
   "metadata": {
    "hidden": true
   },
   "source": [
    "### 4.1.1 Response Variable"
   ]
  },
  {
   "cell_type": "code",
   "execution_count": null,
   "id": "f2030afd",
   "metadata": {
    "ExecuteTime": {
     "end_time": "2022-09-08T14:45:06.074793Z",
     "start_time": "2022-09-08T14:44:56.917965Z"
    },
    "hidden": true
   },
   "outputs": [],
   "source": [
    "sns.distplot(np.log1p( df4['sales'] ) ) ;"
   ]
  },
  {
   "cell_type": "markdown",
   "id": "93b7dcad",
   "metadata": {
    "ExecuteTime": {
     "end_time": "2022-08-22T11:11:43.419208Z",
     "start_time": "2022-08-22T11:11:43.410210Z"
    },
    "hidden": true
   },
   "source": [
    "### 4.1.2. Numerical Variable"
   ]
  },
  {
   "cell_type": "code",
   "execution_count": null,
   "id": "7cb9ac13",
   "metadata": {
    "ExecuteTime": {
     "end_time": "2022-09-08T14:45:13.615390Z",
     "start_time": "2022-09-08T14:45:10.172881Z"
    },
    "hidden": true
   },
   "outputs": [],
   "source": [
    "num_attributes.hist(bins=25);"
   ]
  },
  {
   "cell_type": "markdown",
   "id": "77e4d217",
   "metadata": {
    "hidden": true
   },
   "source": [
    "### 4.1.3. Categorical Variable"
   ]
  },
  {
   "cell_type": "code",
   "execution_count": null,
   "id": "1c154638",
   "metadata": {
    "ExecuteTime": {
     "end_time": "2022-09-08T14:45:14.066873Z",
     "start_time": "2022-09-08T14:45:14.029886Z"
    },
    "hidden": true
   },
   "outputs": [],
   "source": [
    "df4['state_holiday'].drop_duplicates()"
   ]
  },
  {
   "cell_type": "code",
   "execution_count": null,
   "id": "5759129c",
   "metadata": {
    "ExecuteTime": {
     "end_time": "2022-09-08T14:45:51.839249Z",
     "start_time": "2022-09-08T14:45:18.197270Z"
    },
    "hidden": true
   },
   "outputs": [],
   "source": [
    "# STATE HOLIDAY\n",
    "plt.subplot( 3, 2, 1  )\n",
    "a = df4[ df4['state_holiday'] != 'regular_day' ]\n",
    "sns.countplot(a['state_holiday']);\n",
    "\n",
    "plt.subplot( 3, 2, 2  )\n",
    "sns.kdeplot( df4[df4['state_holiday'] == 'public_holiday']['sales'], label='public_holiday', shade=True )\n",
    "sns.kdeplot( df4[df4['state_holiday'] == 'easter_holiday']['sales'], label='easter_holiday', shade=True )\n",
    "sns.kdeplot( df4[df4['state_holiday'] == 'christmas']['sales'], label='christmas', shade=True )\n",
    "\n",
    "# STORE TYPE\n",
    "plt.subplot( 3, 2, 3  )\n",
    "sns.countplot(df4['store_type']);\n",
    "\n",
    "plt.subplot( 3, 2, 4  )\n",
    "sns.kdeplot( df4[df4['store_type'] == 'a']['sales'], label='a', shade=True )\n",
    "sns.kdeplot( df4[df4['store_type'] == 'b']['sales'], label='b', shade=True )\n",
    "sns.kdeplot( df4[df4['store_type'] == 'c']['sales'], label='c', shade=True )\n",
    "sns.kdeplot( df4[df4['store_type'] == 'd']['sales'], label='d', shade=True )\n",
    "\n",
    "# ASSORTMENT\n",
    "plt.subplot( 3, 2, 5  )\n",
    "sns.countplot(df4['assortment']);\n",
    "\n",
    "plt.subplot( 3, 2, 6  )\n",
    "sns.kdeplot( df4[df4['assortment'] == 'extended']['sales'], label='extended', shade=True )\n",
    "sns.kdeplot( df4[df4['assortment'] == 'basic']['sales'], label='basic', shade=True )\n",
    "sns.kdeplot( df4[df4['assortment'] == 'extra']['sales'], label='extra', shade=True )\n"
   ]
  },
  {
   "cell_type": "markdown",
   "id": "65b9da69",
   "metadata": {
    "heading_collapsed": true,
    "hidden": true
   },
   "source": [
    "## 4.2. Análise Bivariada"
   ]
  },
  {
   "cell_type": "markdown",
   "id": "0f703458",
   "metadata": {
    "hidden": true
   },
   "source": [
    "### 1. Lojas com maior sortimentos deveriam vender mais.\n",
    "**FALSA** Lojas com MAIOR SORTIMENTO vendem MENOS.\n"
   ]
  },
  {
   "cell_type": "code",
   "execution_count": null,
   "id": "c795e252",
   "metadata": {
    "ExecuteTime": {
     "end_time": "2022-09-08T14:45:58.313898Z",
     "start_time": "2022-09-08T14:45:57.212937Z"
    },
    "hidden": true
   },
   "outputs": [],
   "source": [
    "aux1 = df4[['assortment', 'sales']].groupby('assortment').sum().reset_index()\n",
    "sns.barplot(x='assortment', y='sales', data=aux1);\n",
    "\n",
    "aux2 = df4[['year_week', 'assortment', 'sales']].groupby( ['year_week', 'assortment'] ).sum().reset_index()\n",
    "aux2.pivot( index='year_week' , columns='assortment' , values='sales' ).plot();\n",
    "\n",
    "aux3 = aux2[aux2['assortment']=='extra']\n",
    "aux3.pivot( index='year_week' , columns='assortment' , values='sales' ).plot();"
   ]
  },
  {
   "cell_type": "code",
   "execution_count": null,
   "id": "8818048c",
   "metadata": {
    "ExecuteTime": {
     "end_time": "2022-09-08T14:46:01.609030Z",
     "start_time": "2022-09-08T14:46:01.598034Z"
    },
    "hidden": true
   },
   "outputs": [],
   "source": [
    "aux3.head()"
   ]
  },
  {
   "cell_type": "markdown",
   "id": "79a2be6c",
   "metadata": {
    "hidden": true
   },
   "source": [
    "### 2. Lojas com competidores mais próximos deveriam vender menos.\n",
    "**FALSA** Lojas com competidores MAIS PROXIMOS vendem MAIS"
   ]
  },
  {
   "cell_type": "code",
   "execution_count": null,
   "id": "36036a3c",
   "metadata": {
    "ExecuteTime": {
     "end_time": "2022-09-08T14:46:05.621988Z",
     "start_time": "2022-09-08T14:46:04.468863Z"
    },
    "hidden": true
   },
   "outputs": [],
   "source": [
    "aux1 = df4[['competition_distance', 'sales']].groupby('competition_distance').sum().reset_index()\n",
    "\n",
    "plt.subplot(1, 3, 1)\n",
    "sns.scatterplot(x='competition_distance', y='sales', data=aux1);\n",
    "\n",
    "plt.subplot(1, 3, 2)\n",
    "bins = list( np.arange( 0, 20000, 1000 ) )\n",
    "aux1['competition_distance_binned'] = pd.cut( aux1['competition_distance'], bins=bins )\n",
    "aux2 = aux1[['competition_distance_binned', 'sales']].groupby('competition_distance_binned').sum().reset_index()\n",
    "sns.barplot(x='competition_distance_binned', y='sales', data=aux2);\n",
    "plt.xticks(rotation=90);\n",
    "\n",
    "plt.subplot(1, 3, 3)\n",
    "sns.heatmap( aux1.corr( method = 'pearson' ), annot=True );"
   ]
  },
  {
   "cell_type": "markdown",
   "id": "0be76b08",
   "metadata": {
    "hidden": true
   },
   "source": [
    "### 3. Lojas com competidores à mais tempo deveriam vender mais.\n",
    "**FALSA** Lojas com competidores a MAIS TEMPO vendem MENOS."
   ]
  },
  {
   "cell_type": "code",
   "execution_count": null,
   "id": "5b37246b",
   "metadata": {
    "ExecuteTime": {
     "end_time": "2022-09-08T14:46:16.603047Z",
     "start_time": "2022-09-08T14:46:10.957052Z"
    },
    "hidden": true
   },
   "outputs": [],
   "source": [
    "plt.subplot( 1, 3, 1 )\n",
    "aux1 = df4[['competition_time_month', 'sales']].groupby('competition_time_month').sum().reset_index()\n",
    "aux2 = aux1[( aux1['competition_time_month'] < 120 ) & (aux1['competition_time_month'] != 0 ) ]\n",
    "sns.barplot( x='competition_time_month', y='sales', data=aux2 );\n",
    "plt.xticks( rotation=90 );\n",
    "\n",
    "plt.subplot( 1, 3, 2 )\n",
    "sns.regplot( x='competition_time_month', y='sales', data=aux2 );\n",
    "\n",
    "plt.subplot( 1, 3, 3 )\n",
    "x = sns.heatmap( aux1.corr( method='pearson' ), annot=True );"
   ]
  },
  {
   "cell_type": "markdown",
   "id": "340d4596",
   "metadata": {
    "hidden": true
   },
   "source": [
    "### 4. Lojas com promoções ativas por mais tempo deveriam vender mais.\n",
    "**FALSA** Lojas com promocoes ativas por mais tempo vendem menos, depois de um certo periodo\n",
    "de promocao"
   ]
  },
  {
   "cell_type": "code",
   "execution_count": null,
   "id": "e5214324",
   "metadata": {
    "ExecuteTime": {
     "end_time": "2022-09-08T14:46:32.110755Z",
     "start_time": "2022-09-08T14:46:16.605046Z"
    },
    "hidden": true
   },
   "outputs": [],
   "source": [
    "aux1 = df4[['promo_time_week', 'sales']].groupby( 'promo_time_week').sum().reset_index()\n",
    "\n",
    "grid = GridSpec( 2, 3 )\n",
    "\n",
    "plt.subplot( grid[0,0] )\n",
    "aux2 = aux1[aux1['promo_time_week'] > 0] # promo extendido\n",
    "sns.barplot( x='promo_time_week', y='sales', data=aux2 );\n",
    "plt.xticks( rotation=90 );\n",
    "\n",
    "plt.subplot( grid[0,1] )\n",
    "sns.regplot( x='promo_time_week', y='sales', data=aux2 );\n",
    "\n",
    "plt.subplot( grid[1,0] )\n",
    "aux3 = aux1[aux1['promo_time_week'] < 0] # promo regular\n",
    "sns.barplot( x='promo_time_week', y='sales', data=aux3 );\n",
    "plt.xticks( rotation=90 );\n",
    "\n",
    "plt.subplot( grid[1,1] )\n",
    "sns.regplot( x='promo_time_week', y='sales', data=aux3 );\n",
    "\n",
    "plt.subplot( grid[:,2] )\n",
    "sns.heatmap( aux1.corr( method='pearson' ), annot=True );"
   ]
  },
  {
   "cell_type": "markdown",
   "id": "dd2f7724",
   "metadata": {
    "heading_collapsed": true,
    "hidden": true
   },
   "source": [
    "### 5. Lojas com mais dias de promoção deveriam vender mais.\n"
   ]
  },
  {
   "cell_type": "markdown",
   "id": "f0b9fb67",
   "metadata": {
    "hidden": true
   },
   "source": [
    "### 6. Lojas com mais promoções consecutivas deveriam vender mais.\n",
    "**FALSA** Lojas com mais promocoes consecutivas vendem menos"
   ]
  },
  {
   "cell_type": "code",
   "execution_count": null,
   "id": "9cbb0b9a",
   "metadata": {
    "ExecuteTime": {
     "end_time": "2022-09-08T14:46:32.218720Z",
     "start_time": "2022-09-08T14:46:32.111756Z"
    },
    "hidden": true
   },
   "outputs": [],
   "source": [
    "df4[['promo', 'promo2', 'sales']].groupby( ['promo', 'promo2'] ).sum().reset_index()"
   ]
  },
  {
   "cell_type": "code",
   "execution_count": null,
   "id": "069209e9",
   "metadata": {
    "ExecuteTime": {
     "end_time": "2022-09-08T14:46:32.711563Z",
     "start_time": "2022-09-08T14:46:32.220721Z"
    },
    "hidden": true
   },
   "outputs": [],
   "source": [
    "aux1 = df4[( df4['promo'] == 1 ) & ( df4['promo2'] == 1 )][['year_week','sales']].groupby( 'year_week' ).sum().reset_index()\n",
    "ax = aux1.plot()\n",
    "\n",
    "aux2 = df4[( df4['promo'] == 1 ) & ( df4['promo2'] == 0 )][['year_week','sales']].groupby( 'year_week' ).sum().reset_index()\n",
    "aux2.plot( ax=ax )\n",
    "ax.legend( labels=['Tradicional & Extendida', 'Extendida']);"
   ]
  },
  {
   "cell_type": "markdown",
   "id": "4ddebe01",
   "metadata": {
    "hidden": true
   },
   "source": [
    "### 7. Lojas abertas durante o feriado de Natal deveriam vender mais.\n",
    "**FALSA** Lojas abertas durante o feriado do Natal vendem menos."
   ]
  },
  {
   "cell_type": "code",
   "execution_count": null,
   "id": "047957bc",
   "metadata": {
    "ExecuteTime": {
     "end_time": "2022-09-08T14:46:33.175423Z",
     "start_time": "2022-09-08T14:46:32.712563Z"
    },
    "hidden": true
   },
   "outputs": [],
   "source": [
    "aux = df4[df4['state_holiday'] != 'regular_day']\n",
    "\n",
    "plt.subplot( 1, 2, 1 )\n",
    "aux1 = aux[['state_holiday', 'sales']].groupby( 'state_holiday' ).sum().reset_index()\n",
    "sns.barplot( x='state_holiday', y='sales', data=aux1 );\n",
    "\n",
    "plt.subplot( 1, 2, 2 )\n",
    "aux2 = aux[['year', 'state_holiday', 'sales']].groupby( ['year','state_holiday'] ).sum().reset_index()\n",
    "sns.barplot( x='year', y='sales', hue='state_holiday', data=aux2 );"
   ]
  },
  {
   "cell_type": "markdown",
   "id": "4282dfdc",
   "metadata": {
    "hidden": true
   },
   "source": [
    "### 8. Lojas deveriam vender mais ao longo dos anos.\n",
    "**FALSA** Lojas vendem menos ao longo dos anos"
   ]
  },
  {
   "cell_type": "code",
   "execution_count": null,
   "id": "9deaeb62",
   "metadata": {
    "ExecuteTime": {
     "end_time": "2022-09-08T14:46:34.055560Z",
     "start_time": "2022-09-08T14:46:33.177422Z"
    },
    "hidden": true
   },
   "outputs": [],
   "source": [
    "aux1 = df4[['year', 'sales']].groupby( 'year' ).sum().reset_index()\n",
    "\n",
    "plt.subplot( 1, 3, 1 )\n",
    "sns.barplot( x='year', y='sales', data=aux1 );\n",
    "\n",
    "plt.subplot( 1, 3, 2 )\n",
    "sns.regplot( x='year', y='sales', data=aux1 );\n",
    "\n",
    "plt.subplot( 1, 3, 3 )\n",
    "sns.heatmap( aux1.corr( method='pearson' ), annot=True );"
   ]
  },
  {
   "cell_type": "markdown",
   "id": "77a42c4d",
   "metadata": {
    "hidden": true
   },
   "source": [
    "### 9. Lojas deveriam vender mais no segundo semestre do ano.\n",
    "**FALSA** Lojas vendem menos no segundo semestre do ano"
   ]
  },
  {
   "cell_type": "code",
   "execution_count": null,
   "id": "e1b00c43",
   "metadata": {
    "ExecuteTime": {
     "end_time": "2022-09-08T14:46:35.000486Z",
     "start_time": "2022-09-08T14:46:34.056561Z"
    },
    "hidden": true
   },
   "outputs": [],
   "source": [
    "aux1 = df4[['month', 'sales']].groupby( 'month' ).sum().reset_index()\n",
    "\n",
    "plt.subplot( 1, 3, 1 )\n",
    "sns.barplot( x='month', y='sales', data=aux1 );\n",
    "\n",
    "plt.subplot( 1, 3, 2 )\n",
    "sns.regplot( x='month', y='sales', data=aux1 );\n",
    "\n",
    "plt.subplot( 1, 3, 3 )\n",
    "sns.heatmap( aux1.corr( method='pearson' ), annot=True );"
   ]
  },
  {
   "cell_type": "markdown",
   "id": "1503d197",
   "metadata": {
    "hidden": true
   },
   "source": [
    "### 10. Lojas deveriam vender mais depois do dia 10 de cada mês.\n",
    "**VERDADEIRA** Lojas vendem mais depois do dia 10 de cada mes."
   ]
  },
  {
   "cell_type": "code",
   "execution_count": null,
   "id": "b928eb19",
   "metadata": {
    "ExecuteTime": {
     "end_time": "2022-09-08T14:46:36.425865Z",
     "start_time": "2022-09-08T14:46:35.002486Z"
    },
    "hidden": true
   },
   "outputs": [],
   "source": [
    "aux1 = df4[['day', 'sales']].groupby( 'day' ).sum().reset_index()\n",
    "\n",
    "plt.subplot( 2, 2, 1 )\n",
    "sns.barplot( x='day', y='sales', data=aux1 );\n",
    "\n",
    "plt.subplot( 2, 2, 2 )\n",
    "sns.regplot( x='day', y='sales', data=aux1 );\n",
    "\n",
    "plt.subplot( 2, 2, 3 )\n",
    "sns.heatmap( aux1.corr( method='pearson' ), annot=True );\n",
    "aux1['before_after'] = aux1['day'].apply( lambda x: 'before_10_days' if x <= 10 else 'after_10_days' )\n",
    "aux2 =aux1[['before_after', 'sales']].groupby( 'before_after' ).sum().reset_index()\n",
    "\n",
    "plt.subplot( 2, 2, 4 )\n",
    "sns.barplot( x='before_after', y='sales', data=aux2 );"
   ]
  },
  {
   "cell_type": "markdown",
   "id": "43fb0da7",
   "metadata": {
    "hidden": true
   },
   "source": [
    "### 11. Lojas deveriam vender menos aos finais de semana.\n",
    "**VERDADEIRA**  Lojas vendem menos nos final de semana"
   ]
  },
  {
   "cell_type": "code",
   "execution_count": null,
   "id": "09e099c1",
   "metadata": {
    "ExecuteTime": {
     "end_time": "2022-09-08T14:46:37.323317Z",
     "start_time": "2022-09-08T14:46:36.427866Z"
    },
    "hidden": true
   },
   "outputs": [],
   "source": [
    "aux1 = df4[['day_of_week', 'sales']].groupby( 'day_of_week' ).sum().reset_index()\n",
    "\n",
    "plt.subplot( 1, 3, 1 )\n",
    "sns.barplot( x='day_of_week', y='sales', data=aux1 );\n",
    "\n",
    "plt.subplot( 1, 3, 2 )\n",
    "sns.regplot( x='day_of_week', y='sales', data=aux1 );\n",
    "\n",
    "plt.subplot( 1, 3, 3 )\n",
    "sns.heatmap( aux1.corr( method='pearson' ), annot=True );"
   ]
  },
  {
   "cell_type": "markdown",
   "id": "18b8ec2c",
   "metadata": {
    "hidden": true
   },
   "source": [
    "### 12. Lojas deveriam vender menos durante os feriados escolares.\n",
    "***VERDADEIRO*** Lojas vendem menos durante os feriadso escolares, except os meses de Julho e\n",
    "Agosto."
   ]
  },
  {
   "cell_type": "code",
   "execution_count": null,
   "id": "abcf925e",
   "metadata": {
    "ExecuteTime": {
     "end_time": "2022-09-08T14:46:38.145481Z",
     "start_time": "2022-09-08T14:46:37.325319Z"
    },
    "hidden": true
   },
   "outputs": [],
   "source": [
    "aux1 = df4[['school_holiday', 'sales']].groupby( 'school_holiday' ).sum().reset_index()\n",
    "\n",
    "plt.subplot( 2, 1, 1 )\n",
    "sns.barplot( x='school_holiday', y='sales', data=aux1 );\n",
    "\n",
    "aux2 = df4[['month', 'school_holiday', 'sales']].groupby(['month','school_holiday'] ).sum().reset_index()\n",
    "\n",
    "plt.subplot( 2, 1, 2 )\n",
    "sns.barplot( x='month', y='sales', hue='school_holiday', data=aux2 );"
   ]
  },
  {
   "cell_type": "markdown",
   "id": "0a766960",
   "metadata": {
    "ExecuteTime": {
     "end_time": "2022-08-22T18:21:27.300912Z",
     "start_time": "2022-08-22T18:21:27.268921Z"
    },
    "hidden": true
   },
   "source": [
    "### 4.2.2. Resumo das Hipóteses"
   ]
  },
  {
   "cell_type": "code",
   "execution_count": null,
   "id": "3e7d6c46",
   "metadata": {
    "ExecuteTime": {
     "end_time": "2022-09-08T14:46:47.046088Z",
     "start_time": "2022-09-08T14:46:47.029093Z"
    },
    "hidden": true
   },
   "outputs": [],
   "source": [
    "tab =[['Hipoteses', 'Conclusao', 'Relevancia'],\n",
    "['H1', 'Falsa', 'Baixa'],\n",
    "['H2', 'Falsa', 'Media'],\n",
    "['H3', 'Falsa', 'Media'],\n",
    "['H4', 'Falsa', 'Baixa'],\n",
    "['H5', '-', '-'],\n",
    "['H6', 'Falsa', 'Baixa'],\n",
    "['H7', 'Falsa', 'Media'],\n",
    "['H8', 'Falsa', 'Alta'],\n",
    "['H9', 'Verdadeira', 'Alta'],\n",
    "['H10', 'Verdadeira', 'Alta'],\n",
    "['H11', 'Verdadeira', 'Alta'],]\n",
    "\n",
    "print( tabulate( tab, headers='firstrow' ) )"
   ]
  },
  {
   "cell_type": "markdown",
   "id": "51643af8",
   "metadata": {
    "heading_collapsed": true,
    "hidden": true
   },
   "source": [
    "## 4.3. Análise Multivariada"
   ]
  },
  {
   "cell_type": "markdown",
   "id": "75411016",
   "metadata": {
    "hidden": true
   },
   "source": [
    "### 4.3.1. Numerical Attributes"
   ]
  },
  {
   "cell_type": "code",
   "execution_count": null,
   "id": "232f233c",
   "metadata": {
    "ExecuteTime": {
     "end_time": "2022-09-08T14:46:54.987503Z",
     "start_time": "2022-09-08T14:46:52.814005Z"
    },
    "hidden": true
   },
   "outputs": [],
   "source": [
    "correlation = num_attributes.corr( method='pearson' )\n",
    "sns.heatmap( correlation, annot=True );"
   ]
  },
  {
   "cell_type": "markdown",
   "id": "69baad4e",
   "metadata": {
    "hidden": true
   },
   "source": [
    "### 4.3.2. Categorical Attributes"
   ]
  },
  {
   "cell_type": "code",
   "execution_count": null,
   "id": "baa4f416",
   "metadata": {
    "ExecuteTime": {
     "end_time": "2022-09-08T14:46:57.685876Z",
     "start_time": "2022-09-08T14:46:55.301148Z"
    },
    "hidden": true
   },
   "outputs": [],
   "source": [
    "# only categorical data\n",
    "a = df4.select_dtypes( include='object' )\n",
    "\n",
    "# Calculate cramer V\n",
    "a1 = cramer_v( a['state_holiday'], a['state_holiday'] )\n",
    "a2 = cramer_v( a['state_holiday'], a['store_type'] )\n",
    "a3 = cramer_v( a['state_holiday'], a['assortment'] )\n",
    "a4 = cramer_v( a['store_type'], a['state_holiday'] )\n",
    "a5 = cramer_v( a['store_type'], a['store_type'] )\n",
    "a6 = cramer_v( a['store_type'], a['assortment'] )\n",
    "a7 = cramer_v( a['assortment'], a['state_holiday'] )\n",
    "a8 = cramer_v( a['assortment'], a['store_type'] )\n",
    "a9 = cramer_v( a['assortment'], a['assortment'] )\n",
    "\n",
    "# Final dataset\n",
    "d = pd.DataFrame( {'state_holiday': [a1, a2, a3],\n",
    "                    'store_type': [a4, a5, a6],\n",
    "                    'assortment': [a7, a8, a9] })\n",
    "d = d.set_index( d.columns )\n",
    "sns.heatmap( d, annot=True )"
   ]
  },
  {
   "cell_type": "markdown",
   "id": "c5063f2d",
   "metadata": {
    "heading_collapsed": true
   },
   "source": [
    "# 5.0 DATA PREPARATION"
   ]
  },
  {
   "cell_type": "code",
   "execution_count": null,
   "id": "3e35f5bf",
   "metadata": {
    "ExecuteTime": {
     "end_time": "2022-10-03T20:47:51.014843Z",
     "start_time": "2022-10-03T20:47:50.966860Z"
    },
    "hidden": true
   },
   "outputs": [],
   "source": [
    "df5 = df4.copy()"
   ]
  },
  {
   "cell_type": "markdown",
   "id": "6b9ea596",
   "metadata": {
    "hidden": true
   },
   "source": [
    "## 5.1. Normalização"
   ]
  },
  {
   "cell_type": "markdown",
   "id": "ada43efc",
   "metadata": {
    "hidden": true
   },
   "source": [
    "## 5.2. Rescaling"
   ]
  },
  {
   "cell_type": "code",
   "execution_count": null,
   "id": "227d4df4",
   "metadata": {
    "ExecuteTime": {
     "end_time": "2022-10-03T20:47:58.475826Z",
     "start_time": "2022-10-03T20:47:58.352857Z"
    },
    "hidden": true
   },
   "outputs": [],
   "source": [
    "rs = RobustScaler()\n",
    "mms = MinMaxScaler()\n",
    "\n",
    "# competition distance\n",
    "df5['competition_distance'] = rs.fit_transform( df5[['competition_distance']].values )\n",
    "pickle.dump( rs, open( 'C:/Users/Pedro/Desktop/Data Science/Comunidade DS/Data Science em Produção/parameter/competition_distance_scaler.pkl', 'wb' ) )\n",
    "\n",
    "\n",
    "# competition time month\n",
    "df5['competition_time_month'] = rs.fit_transform(df5[['competition_time_month']].values )\n",
    "pickle.dump( rs, open( 'C:/Users/Pedro/Desktop/Data Science/Comunidade DS/Data Science em Produção/parameter/competition_time_month_scaler.pkl', 'wb' ) )\n",
    "\n",
    "\n",
    "# promo time week\n",
    "df5['promo_time_week'] = mms.fit_transform( df5[['promo_time_week']].values )\n",
    "pickle.dump( mms, open( 'C:/Users/Pedro/Desktop/Data Science/Comunidade DS/Data Science em Produção/parameter/promo_time_week_scaler.pkl', 'wb' ) )\n",
    "\n",
    "\n",
    "# year\n",
    "df5['year'] = mms.fit_transform( df5[['year']].values )\n",
    "pickle.dump( mms, open( 'C:/Users/Pedro/Desktop/Data Science/Comunidade DS/Data Science em Produção/parameter/year_scaler.pkl', 'wb' ) )\n"
   ]
  },
  {
   "cell_type": "markdown",
   "id": "4cc25ffd",
   "metadata": {
    "hidden": true
   },
   "source": [
    "## 5.3. Transformation"
   ]
  },
  {
   "cell_type": "markdown",
   "id": "fa008484",
   "metadata": {
    "hidden": true
   },
   "source": [
    "### 5.3.1. Encoding"
   ]
  },
  {
   "cell_type": "code",
   "execution_count": null,
   "id": "49791558",
   "metadata": {
    "ExecuteTime": {
     "end_time": "2022-10-03T20:48:04.552764Z",
     "start_time": "2022-10-03T20:48:04.206858Z"
    },
    "hidden": true
   },
   "outputs": [],
   "source": [
    "# state_holiday - One Hot Encoding\n",
    "df5 = pd.get_dummies( df5, prefix=['state_holiday'], columns=['state_holiday'] )\n",
    "\n",
    "# store_type - Label Encoding\n",
    "le = LabelEncoder()\n",
    "df5['store_type'] = le.fit_transform( df5['store_type'] )\n",
    "pickle.dump( le, open( 'C:/Users/Pedro/Desktop/Data Science/Comunidade DS/Data Science em Produção/parameter/store_type_scaler.pkl', 'wb' ) )\n",
    "\n",
    "\n",
    "# assortment - Ordinal Encoding\n",
    "assortment_dict = {'basic': 1, 'extra': 2, 'extended': 3}\n",
    "df5['assortment'] = df5['assortment'].map( assortment_dict )"
   ]
  },
  {
   "cell_type": "markdown",
   "id": "3910267b",
   "metadata": {
    "hidden": true
   },
   "source": [
    "### 5.3.2. Response Variable Transformation"
   ]
  },
  {
   "cell_type": "code",
   "execution_count": null,
   "id": "c0d300ab",
   "metadata": {
    "ExecuteTime": {
     "end_time": "2022-10-03T20:48:07.441848Z",
     "start_time": "2022-10-03T20:48:07.414857Z"
    },
    "hidden": true
   },
   "outputs": [],
   "source": [
    "df5['sales'] = np.log1p( df5['sales'] )"
   ]
  },
  {
   "cell_type": "markdown",
   "id": "2903fc53",
   "metadata": {
    "hidden": true
   },
   "source": [
    "### 5.3.3. Nature Transformation"
   ]
  },
  {
   "cell_type": "code",
   "execution_count": null,
   "id": "165875b2",
   "metadata": {
    "ExecuteTime": {
     "end_time": "2022-10-03T20:48:17.224383Z",
     "start_time": "2022-10-03T20:48:12.566858Z"
    },
    "hidden": true
   },
   "outputs": [],
   "source": [
    "# day of week\n",
    "df5['day_of_week_sin'] = df5['day_of_week'].apply( lambda x: np.sin( x * ( 2. *np.pi/7 ) ) )\n",
    "df5['day_of_week_cos'] = df5['day_of_week'].apply( lambda x: np.cos( x * ( 2. *np.pi/7 ) ) )\n",
    "\n",
    "# month\n",
    "df5['month_sin'] = df5['month'].apply( lambda x: np.sin( x * ( 2. * np.pi/12 ) ) ) \n",
    "df5['month_cos'] = df5['month'].apply( lambda x: np.cos( x * ( 2. * np.pi/12 ) ) )\n",
    "\n",
    "# day\n",
    "df5['day_sin'] = df5['day'].apply( lambda x: np.sin( x * ( 2. * np.pi/30 ) ) )\n",
    "df5['day_cos'] = df5['day'].apply( lambda x: np.cos( x * ( 2. * np.pi/30 ) ) )\n",
    "\n",
    "# week of year\n",
    "df5['week_of_year_sin'] = df5['week_of_year'].apply( lambda x: np.sin( x * ( 2.* np.pi/52 ) ) )\n",
    "df5['week_of_year_cos'] = df5['week_of_year'].apply( lambda x: np.cos( x * ( 2.* np.pi/52 ) ) )"
   ]
  },
  {
   "cell_type": "markdown",
   "id": "708edbaf",
   "metadata": {
    "heading_collapsed": true
   },
   "source": [
    "# 6.0 FEATURE SELECTION"
   ]
  },
  {
   "cell_type": "code",
   "execution_count": null,
   "id": "95c77b61",
   "metadata": {
    "ExecuteTime": {
     "end_time": "2022-10-03T20:48:21.864729Z",
     "start_time": "2022-10-03T20:48:21.715778Z"
    },
    "hidden": true
   },
   "outputs": [],
   "source": [
    "df6 =df5.copy()"
   ]
  },
  {
   "cell_type": "markdown",
   "id": "1cdf0aa1",
   "metadata": {
    "hidden": true
   },
   "source": [
    "## 6.1. Split dataframe into training and test dataset "
   ]
  },
  {
   "cell_type": "code",
   "execution_count": null,
   "id": "bf24f0d8",
   "metadata": {
    "ExecuteTime": {
     "end_time": "2022-10-03T20:48:26.186839Z",
     "start_time": "2022-10-03T20:48:26.127857Z"
    },
    "hidden": true
   },
   "outputs": [],
   "source": [
    "# Dropping old features\n",
    "cols_drop = ['week_of_year', 'day', 'month', 'day_of_week', 'promo_since', 'competition_since', 'year_week' ]\n",
    "df6 = df6.drop( cols_drop, axis=1 )"
   ]
  },
  {
   "cell_type": "code",
   "execution_count": null,
   "id": "aa1b9b5d",
   "metadata": {
    "ExecuteTime": {
     "end_time": "2022-10-03T20:48:29.466741Z",
     "start_time": "2022-10-03T20:48:29.367762Z"
    },
    "hidden": true
   },
   "outputs": [],
   "source": [
    "# training dataset\n",
    "X_train = df6[df6['date'] < '2015-06-19']\n",
    "y_train = X_train['sales']\n",
    "\n",
    "# test dataset\n",
    "X_test = df6[df6['date'] >= '2015-06-19']\n",
    "y_test = X_test['sales']\n",
    "\n",
    "print( 'Training Min Date: {}'.format( X_train['date'].min() ) )\n",
    "print( 'Training Max Date: {}'.format( X_train['date'].max() ) )\n",
    "\n",
    "print( '\\nTest Min Date: {}'.format( X_test['date'].min() ) )\n",
    "print( 'Test Max Date: {}'.format( X_test['date'].max() ) )"
   ]
  },
  {
   "cell_type": "markdown",
   "id": "4328cf09",
   "metadata": {
    "hidden": true
   },
   "source": [
    "## 6.2. Boruta as Feature Selector"
   ]
  },
  {
   "cell_type": "code",
   "execution_count": null,
   "id": "2ce59b52",
   "metadata": {
    "ExecuteTime": {
     "end_time": "2022-08-31T11:24:26.922892Z",
     "start_time": "2022-08-31T11:24:26.908897Z"
    },
    "hidden": true
   },
   "outputs": [],
   "source": [
    "# training and test dataset for Boruta\n",
    "#X_train_n = X_train.drop( ['date', 'sales'], axis=1 ).values\n",
    "#y_train_n = y_train.values.ravel()\n",
    "\n",
    "# define RandomForestRegressor\n",
    "#rf = RandomForestRegressor( n_jobs=-1 )\n",
    "\n",
    "# define Boruta\n",
    "#boruta = BorutaPy( rf, n_estimators='auto', verbose=2, random_state=42 ).fit(X_train_n, y_train_n )"
   ]
  },
  {
   "cell_type": "markdown",
   "id": "f448f0b0",
   "metadata": {
    "hidden": true
   },
   "source": [
    "### 6.2.1 Best features selected"
   ]
  },
  {
   "cell_type": "code",
   "execution_count": null,
   "id": "0066cf76",
   "metadata": {
    "ExecuteTime": {
     "end_time": "2022-08-31T11:24:26.938887Z",
     "start_time": "2022-08-31T11:24:26.924892Z"
    },
    "hidden": true
   },
   "outputs": [],
   "source": [
    "#cols_selected = boruta.support_.tolist()\n",
    "\n",
    "# best features\n",
    "#X_train_fs = X_train.drop( ['date', 'sales'], axis=1 )\n",
    "#cols_selected_boruta = X_train_fs.iloc[:, cols_selected].columns.to_list()\n",
    "\n",
    "# not selected boruta\n",
    "#cols_not_selected_boruta = list( np.setdiff1d( X_train_fs.columns,cols_selected_boruta ) )"
   ]
  },
  {
   "cell_type": "code",
   "execution_count": null,
   "id": "e909cb71",
   "metadata": {
    "ExecuteTime": {
     "end_time": "2022-10-03T20:48:33.768849Z",
     "start_time": "2022-10-03T20:48:33.750855Z"
    },
    "hidden": true
   },
   "outputs": [],
   "source": [
    "cols_selected_boruta = [\n",
    "'store',\n",
    "'promo',\n",
    "'store_type',\n",
    "'assortment',\n",
    "'competition_distance',\n",
    "'competition_open_since_month',\n",
    "'competition_open_since_year',\n",
    "'promo2',\n",
    "'promo2_since_week',\n",
    "'promo2_since_year',\n",
    "'competition_time_month',\n",
    "'promo_time_week','day_of_week_sin',\n",
    "'day_of_week_cos',\n",
    "'month_sin',\n",
    "'month_cos',\n",
    "'day_sin',\n",
    "'day_cos',\n",
    "'week_of_year_sin',\n",
    "'week_of_year_cos']\n",
    "\n",
    "\n",
    "# columns to add\n",
    "feat_to_add = ['date', 'sales']\n",
    "\n",
    "cols_selected_boruta_full = cols_selected_boruta.copy()\n",
    "cols_selected_boruta_full.extend( feat_to_add )"
   ]
  },
  {
   "cell_type": "markdown",
   "id": "54b1eccf",
   "metadata": {
    "heading_collapsed": true
   },
   "source": [
    "# 7.0 MACHINE LEARNING MODELLING"
   ]
  },
  {
   "cell_type": "code",
   "execution_count": null,
   "id": "a999e4b4",
   "metadata": {
    "ExecuteTime": {
     "end_time": "2022-10-03T20:48:40.983514Z",
     "start_time": "2022-10-03T20:48:40.911539Z"
    },
    "hidden": true
   },
   "outputs": [],
   "source": [
    "x_train = X_train[ cols_selected_boruta ]\n",
    "x_test = X_test [ cols_selected_boruta ]\n",
    "\n",
    "# Time Series Data Preparation\n",
    "x_training = X_train[ cols_selected_boruta_full ] "
   ]
  },
  {
   "cell_type": "markdown",
   "id": "935fbb74",
   "metadata": {
    "hidden": true
   },
   "source": [
    "## 7.1. Average Model"
   ]
  },
  {
   "cell_type": "code",
   "execution_count": null,
   "id": "1afab488",
   "metadata": {
    "ExecuteTime": {
     "end_time": "2022-10-03T20:48:46.471406Z",
     "start_time": "2022-10-03T20:48:46.419423Z"
    },
    "hidden": true
   },
   "outputs": [],
   "source": [
    "aux1 = x_test.copy()\n",
    "aux1['sales'] = y_test.copy()\n",
    "\n",
    "# Prediction\n",
    "aux2 = aux1[['store', 'sales']].groupby('store').mean().reset_index().rename( columns={'sales': 'predictions'} )\n",
    "aux1 = pd.merge( aux1, aux2, how='left', on='store' )\n",
    "yhat_baseline = aux1['predictions']\n",
    "\n",
    "# Performance\n",
    "baseline_result = ml_error( 'Average Model', np.expm1( y_test ), np.expm1( yhat_baseline )  )\n",
    "baseline_result"
   ]
  },
  {
   "cell_type": "markdown",
   "id": "42beedd4",
   "metadata": {
    "hidden": true
   },
   "source": [
    "## 7.2. Linear Regression Model"
   ]
  },
  {
   "cell_type": "code",
   "execution_count": null,
   "id": "03b53d96",
   "metadata": {
    "ExecuteTime": {
     "end_time": "2022-10-03T20:48:51.891334Z",
     "start_time": "2022-10-03T20:48:51.577042Z"
    },
    "hidden": true
   },
   "outputs": [],
   "source": [
    "# Model\n",
    "lr = LinearRegression().fit( x_train, y_train )\n",
    "\n",
    "# Prediction\n",
    "yhat_lr = lr.predict( x_test )\n",
    "\n",
    "# Performance\n",
    "lr_result = ml_error( 'Linear Regression', np.expm1( y_test ), np.expm1( yhat_lr ) )\n",
    "lr_result"
   ]
  },
  {
   "cell_type": "markdown",
   "id": "65a29652",
   "metadata": {
    "hidden": true
   },
   "source": [
    "### 7.2.1 Linear Regression Model - Cross Valdiation"
   ]
  },
  {
   "cell_type": "code",
   "execution_count": null,
   "id": "fa03a16d",
   "metadata": {
    "ExecuteTime": {
     "end_time": "2022-08-31T11:24:27.745629Z",
     "start_time": "2022-08-31T11:24:27.732632Z"
    },
    "hidden": true
   },
   "outputs": [],
   "source": [
    "#lr_result_cv = cross_validation( x_training, 5, 'Linear Regression', lr, False )\n",
    "#lr_result_cv"
   ]
  },
  {
   "cell_type": "markdown",
   "id": "af7317ba",
   "metadata": {
    "hidden": true
   },
   "source": [
    "## 7.3. Linear Regression Regularized Model - Lasso"
   ]
  },
  {
   "cell_type": "code",
   "execution_count": null,
   "id": "9b6e0cd7",
   "metadata": {
    "ExecuteTime": {
     "end_time": "2022-10-03T20:48:54.395099Z",
     "start_time": "2022-10-03T20:48:54.177170Z"
    },
    "hidden": true
   },
   "outputs": [],
   "source": [
    "# Model\n",
    "lrr = Lasso(alpha=0.01).fit( x_train, y_train )\n",
    "\n",
    "# Prediction\n",
    "yhat_lrr = lrr.predict( x_test )\n",
    "\n",
    "# Performance\n",
    "lrr_result = ml_error( 'Linear Regression - Lasso', np.expm1( y_test ), np.expm1( yhat_lrr ) )\n",
    "lrr_result"
   ]
  },
  {
   "cell_type": "markdown",
   "id": "273d097a",
   "metadata": {
    "hidden": true
   },
   "source": [
    "### 7.3.1. Lasso - Cross Validation"
   ]
  },
  {
   "cell_type": "code",
   "execution_count": null,
   "id": "e349fcf1",
   "metadata": {
    "ExecuteTime": {
     "end_time": "2022-08-31T11:24:28.300450Z",
     "start_time": "2022-08-31T11:24:28.286455Z"
    },
    "hidden": true
   },
   "outputs": [],
   "source": [
    "#lrr_result_cv = cross_validation( x_training, 5, 'Lasso', lrr, False )\n",
    "#lrr_result_cv"
   ]
  },
  {
   "cell_type": "markdown",
   "id": "c246cda9",
   "metadata": {
    "hidden": true
   },
   "source": [
    "## 7.4. Random Forest Regressor "
   ]
  },
  {
   "cell_type": "code",
   "execution_count": null,
   "id": "40fd5cfc",
   "metadata": {
    "ExecuteTime": {
     "end_time": "2022-10-03T20:49:54.508116Z",
     "start_time": "2022-10-03T20:48:58.472854Z"
    },
    "hidden": true
   },
   "outputs": [],
   "source": [
    "# model\n",
    "rf = RandomForestRegressor( n_estimators=100, n_jobs=-1, random_state=42 ).fit(x_train, y_train )\n",
    "\n",
    "# prediction\n",
    "yhat_rf = rf.predict( x_test )\n",
    "\n",
    "# performance\n",
    "rf_result = ml_error( 'Random Forest Regressor', np.expm1( y_test ), np.expm1(yhat_rf ) )\n",
    "rf_result"
   ]
  },
  {
   "cell_type": "markdown",
   "id": "5ee17b30",
   "metadata": {
    "hidden": true
   },
   "source": [
    "### 7.4.1. Random Forest Regressor - Cross Validation"
   ]
  },
  {
   "cell_type": "code",
   "execution_count": null,
   "id": "4d88cf07",
   "metadata": {
    "ExecuteTime": {
     "end_time": "2022-08-31T11:26:49.610938Z",
     "start_time": "2022-08-31T11:26:49.597943Z"
    },
    "hidden": true
   },
   "outputs": [],
   "source": [
    "#rf_result_cv = cross_validation( x_training, 5, 'Random Forest Regressor', rf, True )\n",
    "#rf_result_cv"
   ]
  },
  {
   "cell_type": "markdown",
   "id": "4880067a",
   "metadata": {
    "hidden": true
   },
   "source": [
    "## 7.5. XGBoost Regressor"
   ]
  },
  {
   "cell_type": "code",
   "execution_count": null,
   "id": "06fcf364",
   "metadata": {
    "ExecuteTime": {
     "end_time": "2022-10-03T20:50:50.958133Z",
     "start_time": "2022-10-03T20:50:26.553127Z"
    },
    "hidden": true
   },
   "outputs": [],
   "source": [
    " # model\n",
    "model_xgb = xgb.XGBRegressor( objective='reg:squarederror',\n",
    "                              n_estimators=100,\n",
    "                              eta=0.01,\n",
    "                              max_depth=10,\n",
    "                              subsample=0.7,\n",
    "                              colsample_bytree=0.9 ).fit( x_train, y_train )\n",
    "\n",
    "# prediction\n",
    "yhat_xgb = model_xgb.predict( x_test )\n",
    "\n",
    "# performance\n",
    "xgb_result = ml_error( 'XGBoost Regressor', np.expm1( y_test ), np.expm1(yhat_xgb ) )\n",
    "xgb_result"
   ]
  },
  {
   "cell_type": "markdown",
   "id": "39b7b319",
   "metadata": {
    "hidden": true
   },
   "source": [
    "### 7.5.1. XGBoost Regressor - Cross Validation"
   ]
  },
  {
   "cell_type": "code",
   "execution_count": null,
   "id": "c71fa043",
   "metadata": {
    "ExecuteTime": {
     "end_time": "2022-08-31T11:27:50.341970Z",
     "start_time": "2022-08-31T11:27:50.328975Z"
    },
    "hidden": true
   },
   "outputs": [],
   "source": [
    "#xgb_result_cv = cross_validation( x_training, 5, 'XGBoost Regressor', model_xgb, True )\n",
    "#xgb_result_cv"
   ]
  },
  {
   "cell_type": "markdown",
   "id": "b3b357ab",
   "metadata": {
    "hidden": true
   },
   "source": [
    "## 7.6. Compare Model's Performance"
   ]
  },
  {
   "cell_type": "markdown",
   "id": "5ce9f903",
   "metadata": {
    "hidden": true
   },
   "source": [
    "## 7.6.1  Single Performance"
   ]
  },
  {
   "cell_type": "code",
   "execution_count": null,
   "id": "2114ea77",
   "metadata": {
    "ExecuteTime": {
     "end_time": "2022-10-03T20:51:36.850128Z",
     "start_time": "2022-10-03T20:51:36.834134Z"
    },
    "hidden": true
   },
   "outputs": [],
   "source": [
    "modelling_result = pd.concat( [baseline_result, lr_result, lrr_result, rf_result, xgb_result] )\n",
    "modelling_result.sort_values( 'RMSE' )"
   ]
  },
  {
   "cell_type": "markdown",
   "id": "6dcbb9ff",
   "metadata": {
    "hidden": true
   },
   "source": [
    "### 7.6.2.  Real Performance Cross Validation"
   ]
  },
  {
   "cell_type": "code",
   "execution_count": null,
   "id": "5217d5c8",
   "metadata": {
    "ExecuteTime": {
     "end_time": "2022-08-31T11:27:50.389956Z",
     "start_time": "2022-08-31T11:27:50.376960Z"
    },
    "hidden": true
   },
   "outputs": [],
   "source": [
    "#modelling_result_cv = pd.concat( [ lr_result_cv, lrr_result_cv, rf_result_cv, xgb_result_cv] )\n",
    "#modelling_result_cv.sort_values( 'RMSE CV' )"
   ]
  },
  {
   "cell_type": "markdown",
   "id": "5110d885",
   "metadata": {
    "heading_collapsed": true
   },
   "source": [
    "# 8.0 HYPERPARAMETER FINE TUNING"
   ]
  },
  {
   "cell_type": "markdown",
   "id": "63719dce",
   "metadata": {
    "hidden": true
   },
   "source": [
    "## 8.1. Random Search"
   ]
  },
  {
   "cell_type": "code",
   "execution_count": null,
   "id": "ebc07d4b",
   "metadata": {
    "ExecuteTime": {
     "end_time": "2022-10-03T20:51:47.464834Z",
     "start_time": "2022-10-03T20:51:47.446841Z"
    },
    "hidden": true
   },
   "outputs": [],
   "source": [
    "warnings.filterwarnings( 'ignore' )"
   ]
  },
  {
   "cell_type": "code",
   "execution_count": null,
   "id": "911e35c0",
   "metadata": {
    "ExecuteTime": {
     "end_time": "2022-08-31T11:27:50.421945Z",
     "start_time": "2022-08-31T11:27:50.407951Z"
    },
    "hidden": true
   },
   "outputs": [],
   "source": [
    "#param = {'n_estimators':[1500, 1700, 2500, 3000, 3500], \n",
    "#         'eta':[0.01, 0.03],\n",
    "#         'max_depth':[3, 5, 9],\n",
    "#         'subsample':[0.1, 0.5, 0.7],\n",
    "#         'colsample_bytree':[0.3, 0.7, 0.9],\n",
    "#         'min_child_weight':[3, 8, 15],\n",
    "#        }\n",
    "\n",
    "#MAX_EVAL = 10"
   ]
  },
  {
   "cell_type": "code",
   "execution_count": null,
   "id": "19ea2c6f",
   "metadata": {
    "ExecuteTime": {
     "end_time": "2022-08-31T11:27:50.437939Z",
     "start_time": "2022-08-31T11:27:50.423946Z"
    },
    "hidden": true
   },
   "outputs": [],
   "source": [
    "#final_result = pd.DataFrame()\n",
    "#\n",
    "#for i in range ( MAX_EVAL ):\n",
    "#    # choose values parameters randomly\n",
    "#    hp = { k : random.sample( v, 1 )[0] for k, v in param.items() }\n",
    "#    print( hp )\n",
    "\n",
    "\n",
    "#    # model\n",
    "#    model_xgb = xgb.XGBRegressor( objective='reg:squarederror',\n",
    "#                              n_estimators=hp['n_estimators'],\n",
    "#                              eta=hp['eta'],\n",
    "#                              max_depth=hp['max_depth'],\n",
    "#                              subsample=hp['subsample'],\n",
    "#                              colsample_bytree=hp['colsample_bytree'],\n",
    "#                              min_child_weight=hp['min_child_weight'] )\n",
    "\n",
    "\n",
    "#    # performance\n",
    "#    result = cross_validation( x_training, 2, 'XGBoost Regressor', model_xgb, False )\n",
    "#    final_result = pd.concat( [final_result, result] )\n",
    "    \n",
    "#final_result  "
   ]
  },
  {
   "cell_type": "markdown",
   "id": "9df40220",
   "metadata": {
    "hidden": true
   },
   "source": [
    "## 8.2. Final Model"
   ]
  },
  {
   "cell_type": "code",
   "execution_count": null,
   "id": "404c4024",
   "metadata": {
    "ExecuteTime": {
     "end_time": "2022-10-03T20:51:50.209838Z",
     "start_time": "2022-10-03T20:51:50.198842Z"
    },
    "hidden": true
   },
   "outputs": [],
   "source": [
    "param_tuned = {'n_estimators': 3000 , \n",
    "         'eta': 0.03,\n",
    "         'max_depth': 9,\n",
    "         'subsample': 0.5,\n",
    "         'colsample_bytree': 0.9,\n",
    "         'min_child_weight': 15,\n",
    "        }\n"
   ]
  },
  {
   "cell_type": "code",
   "execution_count": null,
   "id": "ce1947f8",
   "metadata": {
    "ExecuteTime": {
     "end_time": "2022-10-03T21:05:26.817864Z",
     "start_time": "2022-10-03T20:51:53.431843Z"
    },
    "hidden": true
   },
   "outputs": [],
   "source": [
    "# model\n",
    "model_xgb_tuned = xgb.XGBRegressor( objective='reg:squarederror',\n",
    "                                    n_estimators=param_tuned['n_estimators'],\n",
    "                                    eta=param_tuned['eta'],\n",
    "                                    max_depth=param_tuned['max_depth'],\n",
    "                                    subsample=param_tuned['subsample'],\n",
    "                                    colsample_bytree=param_tuned['colsample_bytree'],\n",
    "                                    min_child_weight=param_tuned['min_child_weight'] ).fit( x_train, y_train )\n",
    "\n",
    "# Prediction\n",
    "yhat_xgb_tuned = model_xgb_tuned.predict( x_test )\n",
    "    \n",
    "\n",
    "\n",
    "# performance\n",
    "xgb_result_tuned = ml_error( 'XGBoost Regressor', np.expm1( y_test ), np.expm1(  yhat_xgb_tuned ) )\n",
    "    \n",
    "xgb_result_tuned "
   ]
  },
  {
   "cell_type": "markdown",
   "id": "3dd04b8f",
   "metadata": {
    "heading_collapsed": true
   },
   "source": [
    "# 9.0. TRADUÇÃO E INTERPRETAÇÃO DO ERRO"
   ]
  },
  {
   "cell_type": "code",
   "execution_count": null,
   "id": "08ba474c",
   "metadata": {
    "ExecuteTime": {
     "end_time": "2022-10-03T21:05:44.378782Z",
     "start_time": "2022-10-03T21:05:44.359787Z"
    },
    "hidden": true
   },
   "outputs": [],
   "source": [
    "df9 = X_test[ cols_selected_boruta_full ]\n",
    "\n",
    "# rescale\n",
    "df9['sales'] = np.expm1( df9['sales'] )\n",
    "df9['predictions'] = np.expm1( yhat_xgb_tuned )"
   ]
  },
  {
   "cell_type": "markdown",
   "id": "937de028",
   "metadata": {
    "hidden": true
   },
   "source": [
    "## 9.1. Business Performance"
   ]
  },
  {
   "cell_type": "code",
   "execution_count": null,
   "id": "dd637da0",
   "metadata": {
    "ExecuteTime": {
     "end_time": "2022-10-03T21:05:48.471407Z",
     "start_time": "2022-10-03T21:05:47.287786Z"
    },
    "hidden": true
   },
   "outputs": [],
   "source": [
    "# sum of predictions\n",
    "df91 = df9[['store', 'predictions']].groupby( 'store' ).sum().reset_index()\n",
    "\n",
    "# MAE and MAPE\n",
    "df9_aux1 = df9[['store', 'sales', 'predictions']].groupby( 'store' ).apply(lambda x: mean_absolute_error( x['sales'], x['predictions'] ) ).reset_index().rename( columns={0:'MAE'})\n",
    "df9_aux2 = df9[['store', 'sales', 'predictions']].groupby( 'store' ).apply(lambda x: mean_absolute_percentage_error( x['sales'], x['predictions'] ) ).reset_index().rename( columns={0:'MAPE'})\n",
    "\n",
    "# Merge\n",
    "df9_aux3 = pd.merge( df9_aux1, df9_aux2, how='inner', on='store' )\n",
    "df92 = pd.merge( df91, df9_aux3, how='inner', on='store' )\n",
    "\n",
    "# Scenarios\n",
    "df92['worst_scenario'] = df92['predictions'] - df92['MAE']\n",
    "df92['best_scenario'] = df92['predictions'] + df92['MAE']\n",
    "\n",
    "# order columns\n",
    "df92 = df92[['store', 'predictions', 'worst_scenario', 'best_scenario', 'MAE','MAPE']]"
   ]
  },
  {
   "cell_type": "code",
   "execution_count": null,
   "id": "e7676ee2",
   "metadata": {
    "ExecuteTime": {
     "end_time": "2022-10-03T21:05:50.343190Z",
     "start_time": "2022-10-03T21:05:50.329195Z"
    },
    "hidden": true
   },
   "outputs": [],
   "source": [
    "df92.sort_values( 'MAPE', ascending=False ).head()"
   ]
  },
  {
   "cell_type": "code",
   "execution_count": null,
   "id": "b893a061",
   "metadata": {
    "ExecuteTime": {
     "end_time": "2022-10-03T21:05:57.815036Z",
     "start_time": "2022-10-03T21:05:57.514101Z"
    },
    "hidden": true
   },
   "outputs": [],
   "source": [
    "sns.scatterplot( x='store', y='MAPE', data=df92 );"
   ]
  },
  {
   "cell_type": "markdown",
   "id": "eee6e7b5",
   "metadata": {
    "hidden": true
   },
   "source": [
    "## 9.2. Total Performance"
   ]
  },
  {
   "cell_type": "code",
   "execution_count": null,
   "id": "e6cac123",
   "metadata": {
    "ExecuteTime": {
     "end_time": "2022-10-03T21:05:59.851172Z",
     "start_time": "2022-10-03T21:05:59.832179Z"
    },
    "hidden": true
   },
   "outputs": [],
   "source": [
    "df93 = df92[['predictions', 'worst_scenario', 'best_scenario']].apply( lambda x: np.sum( x ), axis=0 ).reset_index().rename( columns={'index': 'Scenario', 0:'Values'} )\n",
    "df93['Values'] = df93['Values'].map( 'R${:,.2f}'.format )\n",
    "df93"
   ]
  },
  {
   "cell_type": "markdown",
   "id": "49a6ce4b",
   "metadata": {
    "hidden": true
   },
   "source": [
    "## 9.3. Machine Learning Performance"
   ]
  },
  {
   "cell_type": "code",
   "execution_count": null,
   "id": "bd3200bb",
   "metadata": {
    "ExecuteTime": {
     "end_time": "2022-10-03T21:07:12.130777Z",
     "start_time": "2022-10-03T21:07:12.121780Z"
    },
    "hidden": true
   },
   "outputs": [],
   "source": [
    "df9['error'] = df9['sales'] - df9['predictions']\n",
    "df9['error_rate'] = df9['predictions'] / df9['sales']"
   ]
  },
  {
   "cell_type": "code",
   "execution_count": null,
   "id": "6df961e6",
   "metadata": {
    "ExecuteTime": {
     "end_time": "2022-10-03T21:07:26.102118Z",
     "start_time": "2022-10-03T21:07:17.784782Z"
    },
    "hidden": true
   },
   "outputs": [],
   "source": [
    "plt.subplot( 2, 2, 1 )\n",
    "sns.lineplot( x='date', y='sales', data=df9, label='SALES' )\n",
    "sns.lineplot( x='date', y='predictions', data=df9, label='PREDICTIONS' )\n",
    "\n",
    "plt.subplot( 2, 2, 2 )\n",
    "sns.lineplot( x='date', y='error_rate', data=df9 )\n",
    "plt.axhline( 1, linestyle='--')\n",
    "\n",
    "plt.subplot( 2, 2, 3 )\n",
    "sns.distplot( df9['error'] )\n",
    "\n",
    "plt.subplot( 2, 2, 4 )\n",
    "sns.scatterplot( df9['predictions'], df9['error'] )\n"
   ]
  },
  {
   "cell_type": "markdown",
   "id": "89079b79",
   "metadata": {},
   "source": [
    "# 10.0. DEPLOY MODEL TO PRODUCTION"
   ]
  },
  {
   "cell_type": "code",
   "execution_count": null,
   "id": "99e1214b",
   "metadata": {
    "ExecuteTime": {
     "end_time": "2022-10-04T21:41:26.055216Z",
     "start_time": "2022-10-04T21:41:25.481020Z"
    }
   },
   "outputs": [],
   "source": [
    "# Save Trained Model\n",
    "pickle.dump( model_xgb_tuned, open( 'C:/Users/Pedro/Desktop/Data Science/Comunidade DS/Data Science em Produção/model/model_rossmann.pkl', 'wb' ) )"
   ]
  },
  {
   "cell_type": "markdown",
   "id": "f9850f01",
   "metadata": {},
   "source": [
    "## 10.1. Rossman Class"
   ]
  },
  {
   "cell_type": "code",
   "execution_count": null,
   "id": "d2281aa4",
   "metadata": {
    "ExecuteTime": {
     "end_time": "2022-10-04T21:41:33.305406Z",
     "start_time": "2022-10-04T21:41:33.267418Z"
    }
   },
   "outputs": [],
   "source": [
    "import pickle\n",
    "import inflection\n",
    "import pandas as pd\n",
    "import numpy as np\n",
    "import math\n",
    "import datetime\n",
    "\n",
    "class Rossmann( object ):\n",
    "    \n",
    "    def __init__( self ):\n",
    "        self.home_path= '/Users/Pedro/Desktop/Data Science/Comunidade DS/Data Science em Produção/'\n",
    "        self.competition_distance_scaler   = pickle.load( open( self.home_path + 'parameter/competition_distance_scaler.pkl', 'rb') )\n",
    "        self.competition_time_month_scaler = pickle.load( open( self.home_path + 'parameter/competition_time_month_scaler.pkl', 'rb') )\n",
    "        self.promo_time_week_scaler        = pickle.load( open( self.home_path + 'parameter/promo_time_week_scaler.pkl', 'rb') )\n",
    "        self.year_scaler                   = pickle.load( open( self.home_path + 'parameter/year_scaler.pkl', 'rb') )\n",
    "        self.store_type_scaler             = pickle.load( open( self.home_path + 'parameter/store_type_scaler.pkl', 'rb') )\n",
    "         \n",
    "\n",
    "    def data_cleaning( self, df1 ):\n",
    "        \n",
    "        ## 1.1. Rename Columns\n",
    "        cols_old = ['Store', 'DayOfWeek', 'Date', 'Open', 'Promo', 'StateHoliday', 'SchoolHoliday',\n",
    "                    'StoreType', 'Assortment', 'CompetitionDistance', 'CompetitionOpenSinceMonth',\n",
    "                    'CompetitionOpenSinceYear', 'Promo2', 'Promo2SinceWeek', 'Promo2SinceYear', 'PromoInterval']\n",
    "        \n",
    "        snakecase = lambda x: inflection.underscore( x )\n",
    "        cols_new = list( map( snakecase, cols_old ) )\n",
    "        # rename\n",
    "        df1.columns = cols_new\n",
    "\n",
    "        ## 1.3. Data Types\n",
    "        df1['date'] = pd.to_datetime( df1['date'] )\n",
    "        \n",
    "        ## 1.5. Fillout NA\n",
    "        #competition_distance\n",
    "        df1['competition_distance'] = df1['competition_distance'].apply( lambda x: 200000.0 if math.isnan( x ) else x )\n",
    "\n",
    "        #competition_open_since_month\n",
    "        df1['competition_open_since_month'] = df1.apply( lambda x: x['date'].month \n",
    "        if math.isnan( x['competition_open_since_month'] ) else x['competition_open_since_month'], axis=1 )\n",
    "\n",
    "        #competition_open_since_year\n",
    "        df1['competition_open_since_year'] = df1.apply( lambda x: x['date'].year \n",
    "        if math.isnan( x['competition_open_since_year'] ) else x['competition_open_since_year'], axis=1 )\n",
    "\n",
    "        #promo2_since_week\n",
    "        df1['promo2_since_week'] = df1.apply( lambda x: x['date'].week \n",
    "        if math.isnan( x['promo2_since_week'] ) else x['promo2_since_week'], axis=1 )\n",
    "\n",
    "        #promo2_since_year\n",
    "        df1['promo2_since_year'] = df1.apply( lambda x: x['date'].year \n",
    "        if math.isnan( x['promo2_since_year'] ) else x['promo2_since_year'], axis=1 )\n",
    "\n",
    "        #promo_interval\n",
    "        month_map = {1: 'Jan', 2: 'Fev', 3: 'Mar', 4: 'Apr', 5: 'May', 6: 'Jun', 7: 'Jul', 8: 'Aug', 9: 'Sep', 10: 'Oct', 11: 'Nov', 12: 'Dec'}\n",
    "        df1['promo_interval'].fillna(0, inplace=True )\n",
    "        df1['month_map'] = df1['date'].dt.month.map( month_map )\n",
    "        df1['is_promo'] = df1[['promo_interval', 'month_map']].apply( lambda x: 0 \n",
    "        if x['promo_interval'] == 0 else 1 if x['month_map'] in x['promo_interval'].split( ',' ) else 0, axis=1 )\n",
    "\n",
    "        ## 1.6. Change Data Types\n",
    "        df1['competition_open_since_month'] = df1['competition_open_since_month'].astype(  np.int64  )\n",
    "        df1['competition_open_since_year'] = df1['competition_open_since_year'].astype(  np.int64  )\n",
    "\n",
    "        df1['promo2_since_week'] = df1['promo2_since_week'].astype( np.int64 )\n",
    "        df1['promo2_since_year'] = df1['promo2_since_year'].astype(  np.int64  )\n",
    "        df1['is_promo'] = df1['is_promo'].astype( np.int64 )\n",
    "\n",
    "        \n",
    "        return df1\n",
    "    \n",
    "    \n",
    "    def feature_engineering( self, df2 ):\n",
    "        \n",
    "        # year\n",
    "        df2['year'] = df2['date'].dt.year\n",
    "        \n",
    "        # month\n",
    "        df2['month'] = df2['date'].dt.month\n",
    "        \n",
    "        # day\n",
    "        df2['day'] = df2['date'].dt.day\n",
    "        \n",
    "        # week of year\n",
    "        df2['week_of_year'] = df2['date'].dt.weekofyear\n",
    "        \n",
    "        # year week\n",
    "        df2['year_week'] = df2['date'].dt.strftime( '%Y-%W' )\n",
    "        \n",
    "        # competition since\n",
    "        df2['competition_since'] = df2.apply( lambda x: datetime.datetime(year=x['competition_open_since_year'], \n",
    "                                              month=x['competition_open_since_month'],day=1 ), axis=1 )\n",
    "        df2['competition_time_month'] = ( ( df2['date'] - df2['competition_since'] )/30 ).apply( lambda x: x.days ).astype( int )\n",
    "        \n",
    "        # promo since\n",
    "        df2['promo_since'] = df2['promo2_since_year'].astype( str ) + '-' + df2['promo2_since_week'].astype( str )\n",
    "        df2['promo_since'] = df2['promo_since'].apply( lambda x: datetime.datetime.strptime( x + '-1', '%Y-%W-%w' ) - datetime.timedelta( days=7 ) )\n",
    "        df2['promo_time_week'] = ( ( df2['date'] - df2['promo_since'] )/7 ).apply( lambda x: x.days ).astype( int )\n",
    "        \n",
    "        # assortment\n",
    "        df2['assortment'] = df2['assortment'].apply( lambda x: 'basic' if x == 'a' else 'extra' if x == 'b' else 'extended' )\n",
    "        \n",
    "        # state holiday\n",
    "        df2['state_holiday'] = df2['state_holiday'].apply( lambda x: 'public_holiday' if x == 'a' else 'easter_holiday' if x == 'b' else 'christmas' if x == 'c' else 'regular_day' )\n",
    "        \n",
    "        # 3.0. PASSO 03 - FILTRAGEM DE VARIÁVEIS\n",
    "        ## 3.1. Filtragem das Linhas\n",
    "        df2 = df2[df2['open'] != 0]\n",
    "        \n",
    "        ## 3.2. Selecao das Colunas\n",
    "        cols_drop = ['open', 'promo_interval', 'month_map']\n",
    "        df2 = df2.drop( cols_drop, axis=1 )\n",
    "        \n",
    "        return df2\n",
    "    \n",
    "    \n",
    "    def data_preparation( self, df5 ):\n",
    "        \n",
    "        ## 5.2. Rescaling\n",
    "        # competition distance\n",
    "        df5['competition_distance'] = self.competition_distance_scaler.transform( df5[['competition_distance']].values )\n",
    "        \n",
    "        # competition time month\n",
    "        df5['competition_time_month'] = self.competition_time_month_scaler.transform( df5[['competition_time_month']].values )\n",
    "        \n",
    "        # promo time week\n",
    "        df5['promo_time_week'] = self.promo_time_week_scaler.transform(df5[['promo_time_week']].values )\n",
    "        \n",
    "        # year\n",
    "        df5['year'] = self.year_scaler.transform( df5[['year']].values )\n",
    "        \n",
    "        ### 5.3.1. Encoding\n",
    "        # state_holiday - One Hot Encoding\n",
    "        df5 = pd.get_dummies( df5, prefix=['state_holiday'],columns=['state_holiday'] )\n",
    "        \n",
    "        # store_type - Label Encoding\n",
    "        df5['store_type'] = self.store_type_scaler.fit_transform(df5['store_type'] )\n",
    "        \n",
    "        # assortment - Ordinal Encoding\n",
    "        assortment_dict = {'basic': 1, 'extra': 2, 'extended': 3}\n",
    "        df5['assortment'] = df5['assortment'].map( assortment_dict )\n",
    "        \n",
    "        ### 5.3.3. Nature Transformation\n",
    "        # day of week\n",
    "        df5['day_of_week_sin'] = df5['day_of_week'].apply( lambda x: np.sin( x* ( 2. * np.pi/7 ) ) )\n",
    "        df5['day_of_week_cos'] = df5['day_of_week'].apply( lambda x: np.cos( x* ( 2. * np.pi/7 ) ) )\n",
    "        \n",
    "        # month\n",
    "        df5['month_sin'] = df5['month'].apply( lambda x: np.sin( x * ( 2. * np.pi/12 ) ) )\n",
    "        df5['month_cos'] = df5['month'].apply( lambda x: np.cos( x * ( 2. * np.pi/12 ) ) )\n",
    "        \n",
    "        # day      \n",
    "        df5['day_sin'] = df5['day'].apply( lambda x: np.sin( x * ( 2. * np.pi/30 ) ) )\n",
    "        df5['day_cos'] = df5['day'].apply( lambda x: np.cos( x * ( 2. * np.pi/30 ) ) )\n",
    "        \n",
    "        # week of year\n",
    "        df5['week_of_year_sin'] = df5['week_of_year'].apply( lambda x: np.sin(x * ( 2. * np.pi/52 ) ) )\n",
    "        df5['week_of_year_cos'] = df5['week_of_year'].apply( lambda x: np.cos(x * ( 2. * np.pi/52 ) ) )\n",
    "        \n",
    "        cols_selected = [ 'store', 'promo', 'store_type', 'assortment', 'competition_distance', 'competition_open_since_month',\n",
    "                          'competition_open_since_year', 'promo2', 'promo2_since_week', 'promo2_since_year', 'competition_time_month', 'promo_time_week',\n",
    "                          'day_of_week_sin', 'day_of_week_cos', 'month_sin', 'month_cos', 'day_sin', 'day_cos', 'week_of_year_sin', 'week_of_year_cos']\n",
    "        \n",
    "        \n",
    "        return df5[ cols_selected ]\n",
    "    \n",
    "    \n",
    "    def get_prediction( self, model, original_data, test_data ):\n",
    "        \n",
    "        # prediction\n",
    "        pred = model.predict( test_data )\n",
    "        \n",
    "        # join pred into the original data\n",
    "        original_data['prediction'] = np.expm1( pred )\n",
    "        \n",
    "        return original_data.to_json( orient='records', date_format='iso' )"
   ]
  },
  {
   "cell_type": "markdown",
   "id": "8dfa6be3",
   "metadata": {},
   "source": [
    "## 10.2. API Handler Class"
   ]
  },
  {
   "cell_type": "code",
   "execution_count": null,
   "id": "95251b7d",
   "metadata": {
    "ExecuteTime": {
     "end_time": "2022-10-04T21:29:25.538859Z",
     "start_time": "2022-10-04T21:29:25.529863Z"
    }
   },
   "outputs": [],
   "source": [
    "import pickle\n",
    "import pandas as pd\n",
    "from flask import Flask, request, Response\n",
    "from rossmann.Rossmann import Rossmann\n",
    "\n",
    "# loading model\n",
    "model = pickle.load( open( 'C:/Users/Pedro/Desktop/Data Science/Comunidade DS/Data Science em Produção/model/model_rossmann.pkl', 'rb') )\n",
    "\n",
    "# initialize API\n",
    "app = Flask( __name__ )\n",
    "\n",
    "@app.route( '/rossmann/predict', methods=['POST'] )\n",
    "\n",
    "def rossmann_predict():\n",
    "    print('iniciando')\n",
    "    \n",
    "    test_json = request.get_json()\n",
    "    \n",
    "    if test_json: # there is data\n",
    "        \n",
    "        if isinstance( test_json, dict ): # unique example\n",
    "            test_raw = pd.DataFrame( test_json, index=[0] )\n",
    "            \n",
    "        else: # multiple example\n",
    "            test_raw = pd.DataFrame( test_json, columns=test_json[0].keys() )\n",
    "            \n",
    "        # Instantiate Rossmann class\n",
    "        pipeline = Rossmann()\n",
    "        \n",
    "        # data cleaning\n",
    "        df1 = pipeline.data_cleaning( test_raw )\n",
    "        \n",
    "        # feature engineering\n",
    "        df2 = pipeline.feature_engineering( df1 )\n",
    "        \n",
    "        # data preparation\n",
    "        df3 = pipeline.data_preparation( df2 )\n",
    "        \n",
    "        # prediction\n",
    "        df_response = pipeline.get_prediction( model, test_raw, df3 )\n",
    "        \n",
    "        return df_response\n",
    "    \n",
    "    else:\n",
    "        return Response( '{}', status=200, mimetype='application/json' )\n",
    "    \n",
    "    \n",
    "if __name__ == '__main__':\n",
    "    app.run( '192.168.15.59')"
   ]
  },
  {
   "cell_type": "code",
   "execution_count": null,
   "id": "d302f1d9",
   "metadata": {},
   "outputs": [],
   "source": [
    "#"
   ]
  },
  {
   "cell_type": "markdown",
   "id": "4dc71b01",
   "metadata": {},
   "source": [
    "## 10.3. API Tester"
   ]
  },
  {
   "cell_type": "code",
   "execution_count": 4,
   "id": "305acce8",
   "metadata": {
    "ExecuteTime": {
     "end_time": "2022-10-04T22:20:57.336128Z",
     "start_time": "2022-10-04T22:20:57.203171Z"
    }
   },
   "outputs": [],
   "source": [
    "import requests"
   ]
  },
  {
   "cell_type": "code",
   "execution_count": 5,
   "id": "a68f7a71",
   "metadata": {
    "ExecuteTime": {
     "end_time": "2022-10-04T22:20:59.080759Z",
     "start_time": "2022-10-04T22:20:59.033776Z"
    }
   },
   "outputs": [],
   "source": [
    "# loading test dataset\n",
    "df10 = pd.read_csv( 'C:/Users/Pedro/Desktop/Data Science/Comunidade DS/Data Science em Produção/Rossman Store/test.csv' ) "
   ]
  },
  {
   "cell_type": "code",
   "execution_count": 6,
   "id": "330b3101",
   "metadata": {
    "ExecuteTime": {
     "end_time": "2022-10-04T22:21:01.164602Z",
     "start_time": "2022-10-04T22:21:01.112320Z"
    }
   },
   "outputs": [],
   "source": [
    "# merge test dataset + store\n",
    "df_test = pd.merge( df10, df_store_raw, how='left', on='Store' )\n",
    "\n",
    "# choose store for prediction\n",
    "df_test = df_test[df_test['Store'].isin( [20, 23, 22] )]\n",
    "\n",
    "# remove closed days\n",
    "df_test = df_test[df_test['Open'] != 0]\n",
    "df_test = df_test[~df_test['Open'].isnull()]\n",
    "df_test = df_test.drop( 'Id', axis=1 )"
   ]
  },
  {
   "cell_type": "code",
   "execution_count": 7,
   "id": "e5376d49",
   "metadata": {
    "ExecuteTime": {
     "end_time": "2022-10-04T22:21:05.195506Z",
     "start_time": "2022-10-04T22:21:05.175513Z"
    }
   },
   "outputs": [],
   "source": [
    "# convert Dataframe to json\n",
    "data = json.dumps( df_test.to_dict( orient='records' ) )"
   ]
  },
  {
   "cell_type": "code",
   "execution_count": 8,
   "id": "8356f586",
   "metadata": {
    "ExecuteTime": {
     "end_time": "2022-10-04T22:21:25.571418Z",
     "start_time": "2022-10-04T22:21:25.457454Z"
    }
   },
   "outputs": [
    {
     "name": "stdout",
     "output_type": "stream",
     "text": [
      "Status Code 200\n"
     ]
    }
   ],
   "source": [
    "# API Call\n",
    "url = 'http://192.168.15.59:5001/rossmann/predict'\n",
    "#url = 'https://rossmann-model-test.herokuapp.com/rossmann/predict'\n",
    "header = {'Content-type': 'application/json' }\n",
    "data = data\n",
    "r = requests.post( url, data=data, headers=header )\n",
    "print( 'Status Code {}'.format( r.status_code ) )"
   ]
  },
  {
   "cell_type": "code",
   "execution_count": 9,
   "id": "e27cb8ca",
   "metadata": {
    "ExecuteTime": {
     "end_time": "2022-10-04T22:21:35.697844Z",
     "start_time": "2022-10-04T22:21:35.674854Z"
    }
   },
   "outputs": [],
   "source": [
    "d1 = pd.DataFrame( r.json(), columns=r.json()[0].keys() )"
   ]
  },
  {
   "cell_type": "code",
   "execution_count": 11,
   "id": "7aa86093",
   "metadata": {
    "ExecuteTime": {
     "end_time": "2022-10-04T22:22:24.630914Z",
     "start_time": "2022-10-04T22:22:24.616918Z"
    }
   },
   "outputs": [
    {
     "name": "stdout",
     "output_type": "stream",
     "text": [
      "Store Number 20 will sell R$315,681.62 in the next 6 weeks\n",
      "Store Number 22 will sell R$176,816.46 in the next 6 weeks\n",
      "Store Number 23 will sell R$233,464.48 in the next 6 weeks\n"
     ]
    }
   ],
   "source": [
    "d2 = d1[['store', 'prediction']].groupby( 'store' ).sum().reset_index()\n",
    "for i in range( len( d2 ) ):\n",
    "    print( 'Store Number {} will sell R${:,.2f} in the next 6 weeks'.format(\n",
    "    d2.loc[i, 'store'],\n",
    "    d2.loc[i, 'prediction'] ) )"
   ]
  },
  {
   "cell_type": "code",
   "execution_count": null,
   "id": "008ff967",
   "metadata": {},
   "outputs": [],
   "source": []
  }
 ],
 "metadata": {
  "kernelspec": {
   "display_name": "Python 3 (ipykernel)",
   "language": "python",
   "name": "python3"
  },
  "language_info": {
   "codemirror_mode": {
    "name": "ipython",
    "version": 3
   },
   "file_extension": ".py",
   "mimetype": "text/x-python",
   "name": "python",
   "nbconvert_exporter": "python",
   "pygments_lexer": "ipython3",
   "version": "3.9.7"
  },
  "varInspector": {
   "cols": {
    "lenName": 16,
    "lenType": 16,
    "lenVar": 40
   },
   "kernels_config": {
    "python": {
     "delete_cmd_postfix": "",
     "delete_cmd_prefix": "del ",
     "library": "var_list.py",
     "varRefreshCmd": "print(var_dic_list())"
    },
    "r": {
     "delete_cmd_postfix": ") ",
     "delete_cmd_prefix": "rm(",
     "library": "var_list.r",
     "varRefreshCmd": "cat(var_dic_list()) "
    }
   },
   "types_to_exclude": [
    "module",
    "function",
    "builtin_function_or_method",
    "instance",
    "_Feature"
   ],
   "window_display": false
  }
 },
 "nbformat": 4,
 "nbformat_minor": 5
}
